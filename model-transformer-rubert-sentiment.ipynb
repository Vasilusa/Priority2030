{
 "cells": [
  {
   "cell_type": "code",
   "execution_count": 22,
   "metadata": {
    "executionInfo": {
     "elapsed": 6,
     "status": "ok",
     "timestamp": 1717515955230,
     "user": {
      "displayName": "Алексей Прокопов",
      "userId": "04100345590198951639"
     },
     "user_tz": -180
    },
    "id": "StGDyggfTkX-"
   },
   "outputs": [],
   "source": [
    "import torch\n",
    "from transformers import TFAutoModelForSequenceClassification\n",
    "from transformers import BertTokenizerFast\n",
    "import datasets"
   ]
  },
  {
   "cell_type": "code",
   "execution_count": 23,
   "metadata": {
    "executionInfo": {
     "elapsed": 4,
     "status": "ok",
     "timestamp": 1717515958473,
     "user": {
      "displayName": "Алексей Прокопов",
      "userId": "04100345590198951639"
     },
     "user_tz": -180
    },
    "id": "EAQrf257Lauq"
   },
   "outputs": [],
   "source": [
    "import numpy as np\n",
    "import pandas as pd\n",
    "import evaluate"
   ]
  },
  {
   "cell_type": "markdown",
   "metadata": {
    "id": "WtdZwTVLKIwi"
   },
   "source": [
    "Загружаем токенайзер и объект модели предобученной модели rubert"
   ]
  },
  {
   "cell_type": "code",
   "execution_count": 24,
   "metadata": {
    "colab": {
     "base_uri": "https://localhost:8080/"
    },
    "executionInfo": {
     "elapsed": 5793,
     "status": "ok",
     "timestamp": 1717515968028,
     "user": {
      "displayName": "Алексей Прокопов",
      "userId": "04100345590198951639"
     },
     "user_tz": -180
    },
    "id": "ffKBdcVaT0pM",
    "outputId": "443daa5d-d336-4716-e0dd-017ee850bff5"
   },
   "outputs": [
    {
     "name": "stderr",
     "output_type": "stream",
     "text": [
      "Some weights of the PyTorch model were not used when initializing the TF 2.0 model TFBertForSequenceClassification: ['bert.embeddings.position_ids']\n",
      "- This IS expected if you are initializing TFBertForSequenceClassification from a PyTorch model trained on another task or with another architecture (e.g. initializing a TFBertForSequenceClassification model from a BertForPreTraining model).\n",
      "- This IS NOT expected if you are initializing TFBertForSequenceClassification from a PyTorch model that you expect to be exactly identical (e.g. initializing a TFBertForSequenceClassification model from a BertForSequenceClassification model).\n",
      "All the weights of TFBertForSequenceClassification were initialized from the PyTorch model.\n",
      "If your task is similar to the task the model of the checkpoint was trained on, you can already use TFBertForSequenceClassification for predictions without further training.\n"
     ]
    }
   ],
   "source": [
    "tokenizer = BertTokenizerFast.from_pretrained('blanchefort/rubert-base-cased-sentiment')\n",
    "model = TFAutoModelForSequenceClassification.from_pretrained('blanchefort/rubert-base-cased-sentiment', return_dict=True)\n"
   ]
  },
  {
   "cell_type": "markdown",
   "metadata": {
    "id": "B_3tdIOIKUwt"
   },
   "source": [
    "Карта преобразования меток: метки в модели отличаются от наших данных"
   ]
  },
  {
   "cell_type": "code",
   "execution_count": 25,
   "metadata": {
    "executionInfo": {
     "elapsed": 432,
     "status": "ok",
     "timestamp": 1717515974388,
     "user": {
      "displayName": "Алексей Прокопов",
      "userId": "04100345590198951639"
     },
     "user_tz": -180
    },
    "id": "3JIanzYHVCpC"
   },
   "outputs": [],
   "source": [
    "LABELS = {\n",
    "    0: 'NEUTRAL',\n",
    "    1: 'POSITIVE',\n",
    "    2: 'NEGATIVE',\n",
    "}\n",
    "\n",
    "TABIT_LABELS = {\n",
    "    0: 'BAD',\n",
    "    1: 'NEUTRAL',\n",
    "    2: 'GOOD'\n",
    "}\n",
    "\n",
    "ADJUST_MAP = {\n",
    "    0: 2,\n",
    "    1: 0,\n",
    "    2: 1,\n",
    "}\n",
    "\n",
    "def adjust(label):\n",
    "  return ADJUST_MAP[label]"
   ]
  },
  {
   "cell_type": "markdown",
   "metadata": {
    "id": "GmzOd2uoKkEq"
   },
   "source": [
    "Загружаем данные, собранные на tabiturient.ru"
   ]
  },
  {
   "cell_type": "code",
   "execution_count": 102,
   "metadata": {
    "executionInfo": {
     "elapsed": 1251,
     "status": "ok",
     "timestamp": 1717519144362,
     "user": {
      "displayName": "Алексей Прокопов",
      "userId": "04100345590198951639"
     },
     "user_tz": -180
    },
    "id": "QlGNPtVuMSJb"
   },
   "outputs": [],
   "source": [
    "reviews = pd.read_json('/content/drive/MyDrive/Data/tabiturient/all-reviews.jsonl', lines=True)"
   ]
  },
  {
   "cell_type": "code",
   "execution_count": 103,
   "metadata": {
    "executionInfo": {
     "elapsed": 1265,
     "status": "ok",
     "timestamp": 1717519149743,
     "user": {
      "displayName": "Алексей Прокопов",
      "userId": "04100345590198951639"
     },
     "user_tz": -180
    },
    "id": "BoNP6MueMruZ"
   },
   "outputs": [],
   "source": [
    "review_texts=reviews['content'].to_list()"
   ]
  },
  {
   "cell_type": "code",
   "execution_count": 104,
   "metadata": {
    "executionInfo": {
     "elapsed": 5,
     "status": "ok",
     "timestamp": 1717519153793,
     "user": {
      "displayName": "Алексей Прокопов",
      "userId": "04100345590198951639"
     },
     "user_tz": -180
    },
    "id": "o29PN-G4MzDn"
   },
   "outputs": [],
   "source": [
    "review_labels=reviews['label'].map(adjust).to_list()"
   ]
  },
  {
   "cell_type": "markdown",
   "metadata": {
    "id": "YyGwKp_WKqCh"
   },
   "source": [
    "Векторизуем текст"
   ]
  },
  {
   "cell_type": "code",
   "execution_count": 106,
   "metadata": {
    "executionInfo": {
     "elapsed": 11705,
     "status": "ok",
     "timestamp": 1717519185113,
     "user": {
      "displayName": "Алексей Прокопов",
      "userId": "04100345590198951639"
     },
     "user_tz": -180
    },
    "id": "gHaQDb1nOCdM"
   },
   "outputs": [],
   "source": [
    "inputs = tokenizer(review_texts, max_length=512, padding=True, truncation=True, return_tensors='tf')"
   ]
  },
  {
   "cell_type": "markdown",
   "metadata": {
    "id": "S9_JYAT1Kvda"
   },
   "source": [
    "Вычисляем предсказания модели"
   ]
  },
  {
   "cell_type": "code",
   "execution_count": 107,
   "metadata": {
    "colab": {
     "base_uri": "https://localhost:8080/"
    },
    "executionInfo": {
     "elapsed": 202453,
     "status": "ok",
     "timestamp": 1717519393721,
     "user": {
      "displayName": "Алексей Прокопов",
      "userId": "04100345590198951639"
     },
     "user_tz": -180
    },
    "id": "SGS4Un79Qy2P",
    "outputId": "02c20d90-6b7f-4e57-9227-3e8bc9a1bce1"
   },
   "outputs": [
    {
     "name": "stdout",
     "output_type": "stream",
     "text": [
      "114/114 [==============================] - 144s 1s/step\n"
     ]
    }
   ],
   "source": [
    "outputs=model.predict(inputs)"
   ]
  },
  {
   "cell_type": "markdown",
   "metadata": {
    "id": "ucB9fdwaK0hx"
   },
   "source": [
    "Применяем активацию softmax"
   ]
  },
  {
   "cell_type": "code",
   "execution_count": 108,
   "metadata": {
    "executionInfo": {
     "elapsed": 451,
     "status": "ok",
     "timestamp": 1717519450150,
     "user": {
      "displayName": "Алексей Прокопов",
      "userId": "04100345590198951639"
     },
     "user_tz": -180
    },
    "id": "OoNJe9jf90wZ"
   },
   "outputs": [],
   "source": [
    "layer=keras.layers.Activation('softmax')"
   ]
  },
  {
   "cell_type": "code",
   "execution_count": 110,
   "metadata": {
    "executionInfo": {
     "elapsed": 2622,
     "status": "ok",
     "timestamp": 1717519506871,
     "user": {
      "displayName": "Алексей Прокопов",
      "userId": "04100345590198951639"
     },
     "user_tz": -180
    },
    "id": "QDSUe6a896gh"
   },
   "outputs": [],
   "source": [
    " predicted_lables = layer(outputs.logits)"
   ]
  },
  {
   "cell_type": "markdown",
   "metadata": {
    "id": "92UAgRqZLInz"
   },
   "source": [
    "Сравниваем предсказанные и эталонные оценки метрикой CategoricalAccuracy"
   ]
  },
  {
   "cell_type": "code",
   "execution_count": 111,
   "metadata": {
    "executionInfo": {
     "elapsed": 470,
     "status": "ok",
     "timestamp": 1717519535466,
     "user": {
      "displayName": "Алексей Прокопов",
      "userId": "04100345590198951639"
     },
     "user_tz": -180
    },
    "id": "W695RmxE-Nas"
   },
   "outputs": [],
   "source": [
    "metric = keras.metrics.CategoricalAccuracy()"
   ]
  },
  {
   "cell_type": "code",
   "execution_count": 112,
   "metadata": {
    "executionInfo": {
     "elapsed": 743,
     "status": "ok",
     "timestamp": 1717519564246,
     "user": {
      "displayName": "Алексей Прокопов",
      "userId": "04100345590198951639"
     },
     "user_tz": -180
    },
    "id": "RYAu5_ar-7-z"
   },
   "outputs": [],
   "source": [
    "review_labels_list_cat = keras.utils.to_categorical(review_labels)"
   ]
  },
  {
   "cell_type": "code",
   "execution_count": 113,
   "metadata": {
    "colab": {
     "base_uri": "https://localhost:8080/"
    },
    "executionInfo": {
     "elapsed": 2042,
     "status": "ok",
     "timestamp": 1717519573359,
     "user": {
      "displayName": "Алексей Прокопов",
      "userId": "04100345590198951639"
     },
     "user_tz": -180
    },
    "id": "5QZJQEjN-qVe",
    "outputId": "565aa355-7a84-4c58-96c9-d92b635c0b5f"
   },
   "outputs": [
    {
     "data": {
      "text/plain": [
       "<tf.Variable 'UnreadVariable' shape=() dtype=float32, numpy=3638.0>"
      ]
     },
     "execution_count": 113,
     "metadata": {},
     "output_type": "execute_result"
    }
   ],
   "source": [
    "metric.update_state(predicted_lables, review_labels_list_cat)"
   ]
  },
  {
   "cell_type": "code",
   "execution_count": 122,
   "metadata": {
    "colab": {
     "base_uri": "https://localhost:8080/"
    },
    "executionInfo": {
     "elapsed": 556,
     "status": "ok",
     "timestamp": 1717519727551,
     "user": {
      "displayName": "Алексей Прокопов",
      "userId": "04100345590198951639"
     },
     "user_tz": -180
    },
    "id": "au0xdXDU_WdD",
    "outputId": "7a27534d-7bd7-4090-dcc7-d1aa95775cdb"
   },
   "outputs": [
    {
     "name": "stdout",
     "output_type": "stream",
     "text": [
      "Accuracy=0.6646509170532227\n"
     ]
    }
   ],
   "source": [
    "print(f\"Accuracy={metric.result().numpy()}\" )"
   ]
  }
 ],
 "metadata": {
  "accelerator": "GPU",
  "colab": {
   "authorship_tag": "ABX9TyNnNsD7QgryvzFQIS/iPrhm",
   "gpuType": "T4",
   "mount_file_id": "1nKriy-paU1Fi1k80Qk2Vdb1VIHq36PYz",
   "provenance": []
  },
  "kernelspec": {
   "display_name": "Python 3 (ipykernel)",
   "language": "python",
   "name": "python3"
  },
  "language_info": {
   "codemirror_mode": {
    "name": "ipython",
    "version": 3
   },
   "file_extension": ".py",
   "mimetype": "text/x-python",
   "name": "python",
   "nbconvert_exporter": "python",
   "pygments_lexer": "ipython3",
   "version": "3.12.3"
  }
 },
 "nbformat": 4,
 "nbformat_minor": 4
}
