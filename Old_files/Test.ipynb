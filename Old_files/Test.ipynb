{
 "cells": [
  {
   "cell_type": "code",
   "execution_count": 61,
   "id": "1c4905aa-5205-4ee1-b1b6-0b757610e385",
   "metadata": {},
   "outputs": [],
   "source": [
    "import numpy as np\n",
    "import pandas as pd\n",
    "import matplotlib.pyplot as plt\n",
    "import os\n",
    "import re\n",
    "import shutil\n",
    "import string\n",
    "import tensorflow as tf\n",
    "import keras\n",
    "\n",
    "from tensorflow.keras import layers\n",
    "from tensorflow.keras import losses\n",
    "\n",
    "import matplotlib.pyplot as plt"
   ]
  },
  {
   "cell_type": "code",
   "execution_count": 62,
   "id": "0f0af821-803b-47b4-9549-9e5bf4a553b2",
   "metadata": {},
   "outputs": [],
   "source": [
    "import mydata as md\n",
    "\n",
    "data = md.Data('cache')\n"
   ]
  },
  {
   "cell_type": "code",
   "execution_count": 70,
   "id": "21ef3be2-6d69-4aa7-a634-e43fbf137770",
   "metadata": {},
   "outputs": [],
   "source": [
    "import pymystem3\n",
    "mystem = pymystem3.Mystem()"
   ]
  },
  {
   "cell_type": "code",
   "execution_count": 3,
   "id": "8e6a82af-7da7-4af8-b459-281ec5ab7cd3",
   "metadata": {},
   "outputs": [],
   "source": [
    "raw_train_ds, raw_valid_ds, raw_test_ds = data.load('tabiturient')"
   ]
  },
  {
   "cell_type": "code",
   "execution_count": 19,
   "id": "03ebc404-72a8-4fea-93ea-9e886c9f15d0",
   "metadata": {},
   "outputs": [],
   "source": [
    "df = pd.read_csv('/home/alex/Data/datasets/RuTweetCorp/negative.csv')"
   ]
  },
  {
   "cell_type": "code",
   "execution_count": 20,
   "id": "24601f91-f8ed-4ce4-b872-9d39729b2bbb",
   "metadata": {},
   "outputs": [
    {
     "data": {
      "text/plain": [
       "111923"
      ]
     },
     "execution_count": 20,
     "metadata": {},
     "output_type": "execute_result"
    }
   ],
   "source": [
    "len(df)"
   ]
  },
  {
   "cell_type": "code",
   "execution_count": 19,
   "id": "5d4c401c-30c1-4cdd-9ddf-8044b0daddff",
   "metadata": {},
   "outputs": [],
   "source": [
    "vi = list(raw_valid_ds.as_numpy_iterator())"
   ]
  },
  {
   "cell_type": "code",
   "execution_count": 24,
   "id": "fa881847-9524-43ae-9a59-2b51a03594bd",
   "metadata": {},
   "outputs": [],
   "source": [
    "si = list(raw_test_ds.as_numpy_iterator())"
   ]
  },
  {
   "cell_type": "code",
   "execution_count": 20,
   "id": "a07e086b-c121-48a4-8b55-6f0f4609a94f",
   "metadata": {},
   "outputs": [],
   "source": [
    "ti = list(raw_train_ds.as_numpy_iterator())"
   ]
  },
  {
   "cell_type": "code",
   "execution_count": 23,
   "id": "855772a7-5774-43ed-88b2-0503a5d6e732",
   "metadata": {},
   "outputs": [
    {
     "data": {
      "text/plain": [
       "2876"
      ]
     },
     "execution_count": 23,
     "metadata": {},
     "output_type": "execute_result"
    }
   ],
   "source": [
    "len(vi)"
   ]
  },
  {
   "cell_type": "code",
   "execution_count": 26,
   "id": "0cace0d1-91bb-4d2f-b666-292fafe265fe",
   "metadata": {},
   "outputs": [
    {
     "name": "stdout",
     "output_type": "stream",
     "text": [
      "0\n"
     ]
    }
   ],
   "source": [
    "c=0\n",
    "for j in range(len(si)):\n",
    "    for i in range(len(vi)):\n",
    "        if vi[i][0] == si[j][0] and i!=j:\n",
    "            c=c+1\n",
    "            print(f\"ti[{i}]==si[{j}]\")\n",
    "print(c)"
   ]
  },
  {
   "cell_type": "code",
   "execution_count": 26,
   "id": "e3aea76f-dcec-424f-8ef6-cc41a8a10d45",
   "metadata": {},
   "outputs": [],
   "source": [
    "all_data = pd.read_json(\"/home/alex/Data/datasets/tabiturient/all-reviews.jsonl\", lines=True)"
   ]
  },
  {
   "cell_type": "code",
   "execution_count": 29,
   "id": "c5c74073-1198-4e57-a811-067fd53ccbba",
   "metadata": {},
   "outputs": [],
   "source": [
    "sr = str(sr, 'utf-8')"
   ]
  },
  {
   "cell_type": "code",
   "execution_count": 40,
   "id": "3eabc73c-2fba-4124-9270-c356ba654055",
   "metadata": {},
   "outputs": [
    {
     "data": {
      "text/plain": [
       "'я учиться в политех на 1 курс ипмм. учиться непросто, но весело, обо все по порядок:\\n\\n1) общежитие в целое оставлять положительный впечатление. на кухня нет очередь, но место грязноватый(зависеть только от проживать), в душ очередь не бывать вообще, в прачечная иногда приходиться занимать место, чистота в туалет также зависеть только от проживать. стоить сказать, что убирать каждый  будний день, поэтому в целое чисто. довольно много таракан, но их кол-во зависеть от чистоплотность вы и ваш сосед. недалеко пятерочка, аптека и все необходимый. самый главное - 15 минута до политех.\\n\\n2) первый время очень тяжело, все новый, непривычный. очень сильно помогать адаптер: рассказывать про вуз, студенческий жизнь, преподаватель и отвечать на любой вопрос, организовывать встреча.\\n\\n3) в политех очень развитый внеучебный деятельность, можно находить занятие на любой вкус. развитый студклуб, в он постоянно проходить мероприятие. также студсовет устраивать мероприятие прямо в общежитие почти каждый неделя. главный фишка - бесплатный концерт в белый зал политех.  \\n\\n4) столовая на территория политех довольно много, почти в каждый корпус. однако это не избавлять от огромный очередь, иногда не успевать поесть в перерыв. еда нормальный, цена средний, как везде. кстати, быть свой пышечный на территория кампус:). также недалеко от общежитие быть столовая и различный фаст-фуд.\\n\\n5) теперь о самый главное - учиться в политех быть трудно. главный секрет - посещать как можно много пар, а хорошо все - быть намного просто. препод разный, у каждый свой подход, но негативно не мочь ни о кто сказать. большинство(почти весь) препод пытаться научать что-то, доносить материал, относиться небезразличный. основной проблема связывать с готовность студент после школа: препод часто удивляться то, что мы что-то не проходить в школа(проблема образование и сам студент в целое, конечно). важно сказать, что быть такой предмет, как творческий семестр, на который мы слушать оркестр вживый, узнавать много новый об история музыка(очень клевый предмет). кстати, быть возможность заниматься научный деятельность с первый курс. \\n\\n6) главный минус образование в политех - наличие онлайн курс. в наш группа быть 5 онлайн курс, благо не по профильный предмет. ужасный система с единственный плюс - уменьшать количество пара. это максимальный бесполезный вещь, уходить куча время на просмотр лекция, конспект, прохождение тест, чисто физически это очень трудно успевать сделать до дедлайн. но убивать время на курсы не добавлять знание, так как ограниченный общение с препод по предмет не являться плюс. \\n\\n7) нет коррупция. вообще.\\n\\nитого, очень положительный впечатление после 1 семестр. не жалеть, что поступать сюда.\\n\\nP.S. весь вышесказанный относиться к ипмм. не мочь сказать, как в другой институт. \\n\\nP.P.S. учиться в течение семестр, иначе почти невозможно.\\n'"
      ]
     },
     "execution_count": 40,
     "metadata": {},
     "output_type": "execute_result"
    }
   ],
   "source": [
    "sr"
   ]
  },
  {
   "cell_type": "code",
   "execution_count": 30,
   "id": "2e4f3d89-37ff-4c12-8e67-e72261229836",
   "metadata": {},
   "outputs": [
    {
     "data": {
      "text/html": [
       "<div>\n",
       "<style scoped>\n",
       "    .dataframe tbody tr th:only-of-type {\n",
       "        vertical-align: middle;\n",
       "    }\n",
       "\n",
       "    .dataframe tbody tr th {\n",
       "        vertical-align: top;\n",
       "    }\n",
       "\n",
       "    .dataframe thead th {\n",
       "        text-align: right;\n",
       "    }\n",
       "</style>\n",
       "<table border=\"1\" class=\"dataframe\">\n",
       "  <thead>\n",
       "    <tr style=\"text-align: right;\">\n",
       "      <th></th>\n",
       "      <th>id</th>\n",
       "      <th>content</th>\n",
       "      <th>parent_url</th>\n",
       "      <th>label_name</th>\n",
       "      <th>label</th>\n",
       "    </tr>\n",
       "  </thead>\n",
       "  <tbody>\n",
       "    <tr>\n",
       "      <th>0</th>\n",
       "      <td>7</td>\n",
       "      <td>Пишу про Герцена. В этом ВУЗе существует одна ...</td>\n",
       "      <td>https://tabiturient.ru/vuzu/herzen</td>\n",
       "      <td>Bad</td>\n",
       "      <td>0</td>\n",
       "    </tr>\n",
       "    <tr>\n",
       "      <th>1</th>\n",
       "      <td>9</td>\n",
       "      <td>Наверняка многие абитуриенты с Иркутской облас...</td>\n",
       "      <td>https://tabiturient.ru/vuzu/isu</td>\n",
       "      <td>Bad</td>\n",
       "      <td>0</td>\n",
       "    </tr>\n",
       "    <tr>\n",
       "      <th>2</th>\n",
       "      <td>10</td>\n",
       "      <td>В этом ВУЗе Вас не научат ничему. Преподавател...</td>\n",
       "      <td>None</td>\n",
       "      <td>Bad</td>\n",
       "      <td>0</td>\n",
       "    </tr>\n",
       "    <tr>\n",
       "      <th>3</th>\n",
       "      <td>11</td>\n",
       "      <td>Учусь в Ранхигс на одном из лучших и старейших...</td>\n",
       "      <td>https://tabiturient.ru/vuzu/ranepa</td>\n",
       "      <td>Neutral</td>\n",
       "      <td>1</td>\n",
       "    </tr>\n",
       "    <tr>\n",
       "      <th>4</th>\n",
       "      <td>12</td>\n",
       "      <td>Учусь на 3 курсе одного из лучших факультетов....</td>\n",
       "      <td>https://tabiturient.ru/vuzu/voenmeh</td>\n",
       "      <td>Bad</td>\n",
       "      <td>0</td>\n",
       "    </tr>\n",
       "    <tr>\n",
       "      <th>...</th>\n",
       "      <td>...</td>\n",
       "      <td>...</td>\n",
       "      <td>...</td>\n",
       "      <td>...</td>\n",
       "      <td>...</td>\n",
       "    </tr>\n",
       "    <tr>\n",
       "      <th>3633</th>\n",
       "      <td>8416</td>\n",
       "      <td>Я выбрала именно Президентскую академию, потом...</td>\n",
       "      <td>https://tabiturient.ru/vuzu/ranepa</td>\n",
       "      <td>Good</td>\n",
       "      <td>2</td>\n",
       "    </tr>\n",
       "    <tr>\n",
       "      <th>3634</th>\n",
       "      <td>8417</td>\n",
       "      <td>Престижный и высокорейтинговый вуз, который пр...</td>\n",
       "      <td>https://tabiturient.ru/vuzu/voenmeh</td>\n",
       "      <td>Good</td>\n",
       "      <td>2</td>\n",
       "    </tr>\n",
       "    <tr>\n",
       "      <th>3635</th>\n",
       "      <td>8418</td>\n",
       "      <td>Здравствуйте! Хочу поделиться своим опытом обу...</td>\n",
       "      <td>None</td>\n",
       "      <td>Good</td>\n",
       "      <td>2</td>\n",
       "    </tr>\n",
       "    <tr>\n",
       "      <th>3636</th>\n",
       "      <td>8419</td>\n",
       "      <td>Учусь в технологическом университете на третье...</td>\n",
       "      <td>https://tabiturient.ru/vuzu/vsuet</td>\n",
       "      <td>Good</td>\n",
       "      <td>2</td>\n",
       "    </tr>\n",
       "    <tr>\n",
       "      <th>3637</th>\n",
       "      <td>8420</td>\n",
       "      <td>Писать долгие и скучные предложения не буду, т...</td>\n",
       "      <td>https://tabiturient.ru/vuzu/vsuet</td>\n",
       "      <td>Good</td>\n",
       "      <td>2</td>\n",
       "    </tr>\n",
       "  </tbody>\n",
       "</table>\n",
       "<p>3638 rows × 5 columns</p>\n",
       "</div>"
      ],
      "text/plain": [
       "        id                                            content  \\\n",
       "0        7  Пишу про Герцена. В этом ВУЗе существует одна ...   \n",
       "1        9  Наверняка многие абитуриенты с Иркутской облас...   \n",
       "2       10  В этом ВУЗе Вас не научат ничему. Преподавател...   \n",
       "3       11  Учусь в Ранхигс на одном из лучших и старейших...   \n",
       "4       12  Учусь на 3 курсе одного из лучших факультетов....   \n",
       "...    ...                                                ...   \n",
       "3633  8416  Я выбрала именно Президентскую академию, потом...   \n",
       "3634  8417  Престижный и высокорейтинговый вуз, который пр...   \n",
       "3635  8418  Здравствуйте! Хочу поделиться своим опытом обу...   \n",
       "3636  8419  Учусь в технологическом университете на третье...   \n",
       "3637  8420  Писать долгие и скучные предложения не буду, т...   \n",
       "\n",
       "                               parent_url label_name  label  \n",
       "0      https://tabiturient.ru/vuzu/herzen        Bad      0  \n",
       "1         https://tabiturient.ru/vuzu/isu        Bad      0  \n",
       "2                                    None        Bad      0  \n",
       "3      https://tabiturient.ru/vuzu/ranepa    Neutral      1  \n",
       "4     https://tabiturient.ru/vuzu/voenmeh        Bad      0  \n",
       "...                                   ...        ...    ...  \n",
       "3633   https://tabiturient.ru/vuzu/ranepa       Good      2  \n",
       "3634  https://tabiturient.ru/vuzu/voenmeh       Good      2  \n",
       "3635                                 None       Good      2  \n",
       "3636    https://tabiturient.ru/vuzu/vsuet       Good      2  \n",
       "3637    https://tabiturient.ru/vuzu/vsuet       Good      2  \n",
       "\n",
       "[3638 rows x 5 columns]"
      ]
     },
     "execution_count": 30,
     "metadata": {},
     "output_type": "execute_result"
    }
   ],
   "source": [
    "all_data"
   ]
  },
  {
   "cell_type": "code",
   "execution_count": 37,
   "id": "b2dc9f50-b327-466d-8847-a6eda4eb819a",
   "metadata": {},
   "outputs": [
    {
     "ename": "KeyError",
     "evalue": "'content'",
     "output_type": "error",
     "traceback": [
      "\u001b[0;31m---------------------------------------------------------------------------\u001b[0m",
      "\u001b[0;31mKeyError\u001b[0m                                  Traceback (most recent call last)",
      "Cell \u001b[0;32mIn[37], line 1\u001b[0m\n\u001b[0;32m----> 1\u001b[0m all_text[\u001b[43mall_text\u001b[49m\u001b[43m[\u001b[49m\u001b[38;5;124;43m'\u001b[39;49m\u001b[38;5;124;43mcontent\u001b[39;49m\u001b[38;5;124;43m'\u001b[39;49m\u001b[43m]\u001b[49m \u001b[38;5;241m==\u001b[39m sr]\n",
      "File \u001b[0;32m~/ai_venv_2/lib/python3.12/site-packages/pandas/core/series.py:1121\u001b[0m, in \u001b[0;36mSeries.__getitem__\u001b[0;34m(self, key)\u001b[0m\n\u001b[1;32m   1118\u001b[0m     \u001b[38;5;28;01mreturn\u001b[39;00m \u001b[38;5;28mself\u001b[39m\u001b[38;5;241m.\u001b[39m_values[key]\n\u001b[1;32m   1120\u001b[0m \u001b[38;5;28;01melif\u001b[39;00m key_is_scalar:\n\u001b[0;32m-> 1121\u001b[0m     \u001b[38;5;28;01mreturn\u001b[39;00m \u001b[38;5;28;43mself\u001b[39;49m\u001b[38;5;241;43m.\u001b[39;49m\u001b[43m_get_value\u001b[49m\u001b[43m(\u001b[49m\u001b[43mkey\u001b[49m\u001b[43m)\u001b[49m\n\u001b[1;32m   1123\u001b[0m \u001b[38;5;66;03m# Convert generator to list before going through hashable part\u001b[39;00m\n\u001b[1;32m   1124\u001b[0m \u001b[38;5;66;03m# (We will iterate through the generator there to check for slices)\u001b[39;00m\n\u001b[1;32m   1125\u001b[0m \u001b[38;5;28;01mif\u001b[39;00m is_iterator(key):\n",
      "File \u001b[0;32m~/ai_venv_2/lib/python3.12/site-packages/pandas/core/series.py:1237\u001b[0m, in \u001b[0;36mSeries._get_value\u001b[0;34m(self, label, takeable)\u001b[0m\n\u001b[1;32m   1234\u001b[0m     \u001b[38;5;28;01mreturn\u001b[39;00m \u001b[38;5;28mself\u001b[39m\u001b[38;5;241m.\u001b[39m_values[label]\n\u001b[1;32m   1236\u001b[0m \u001b[38;5;66;03m# Similar to Index.get_value, but we do not fall back to positional\u001b[39;00m\n\u001b[0;32m-> 1237\u001b[0m loc \u001b[38;5;241m=\u001b[39m \u001b[38;5;28;43mself\u001b[39;49m\u001b[38;5;241;43m.\u001b[39;49m\u001b[43mindex\u001b[49m\u001b[38;5;241;43m.\u001b[39;49m\u001b[43mget_loc\u001b[49m\u001b[43m(\u001b[49m\u001b[43mlabel\u001b[49m\u001b[43m)\u001b[49m\n\u001b[1;32m   1239\u001b[0m \u001b[38;5;28;01mif\u001b[39;00m is_integer(loc):\n\u001b[1;32m   1240\u001b[0m     \u001b[38;5;28;01mreturn\u001b[39;00m \u001b[38;5;28mself\u001b[39m\u001b[38;5;241m.\u001b[39m_values[loc]\n",
      "File \u001b[0;32m~/ai_venv_2/lib/python3.12/site-packages/pandas/core/indexes/range.py:417\u001b[0m, in \u001b[0;36mRangeIndex.get_loc\u001b[0;34m(self, key)\u001b[0m\n\u001b[1;32m    415\u001b[0m         \u001b[38;5;28;01mraise\u001b[39;00m \u001b[38;5;167;01mKeyError\u001b[39;00m(key) \u001b[38;5;28;01mfrom\u001b[39;00m \u001b[38;5;21;01merr\u001b[39;00m\n\u001b[1;32m    416\u001b[0m \u001b[38;5;28;01mif\u001b[39;00m \u001b[38;5;28misinstance\u001b[39m(key, Hashable):\n\u001b[0;32m--> 417\u001b[0m     \u001b[38;5;28;01mraise\u001b[39;00m \u001b[38;5;167;01mKeyError\u001b[39;00m(key)\n\u001b[1;32m    418\u001b[0m \u001b[38;5;28mself\u001b[39m\u001b[38;5;241m.\u001b[39m_check_indexing_error(key)\n\u001b[1;32m    419\u001b[0m \u001b[38;5;28;01mraise\u001b[39;00m \u001b[38;5;167;01mKeyError\u001b[39;00m(key)\n",
      "\u001b[0;31mKeyError\u001b[0m: 'content'"
     ]
    }
   ],
   "source": [
    "all_text[all_text['content'] == sr]"
   ]
  },
  {
   "cell_type": "code",
   "execution_count": 34,
   "id": "d15fc8af-7810-4038-b9af-1ab0cf7b89bd",
   "metadata": {},
   "outputs": [],
   "source": [
    "all_text = all_data['content']"
   ]
  },
  {
   "cell_type": "code",
   "execution_count": 35,
   "id": "be4950bd-c19f-4375-bb9e-d667de857477",
   "metadata": {},
   "outputs": [],
   "source": [
    "all_text = all_text.map(data.lemmatize)"
   ]
  },
  {
   "cell_type": "code",
   "execution_count": 41,
   "id": "e0033f9f-bd43-4bed-a274-45106f6dff50",
   "metadata": {},
   "outputs": [
    {
     "name": "stdout",
     "output_type": "stream",
     "text": [
      "я учиться в политех на 1 курс ипмм. учиться непросто, но весело, обо все по порядок:\n",
      "\n",
      "1) общежитие в целое оставлять положительный впечатление. на кухня нет очередь, но место грязноватый(зависеть только от проживать), в душ очередь не бывать вообще, в прачечная иногда приходиться занимать место, чистота в туалет также зависеть только от проживать. стоить сказать, что убирать каждый  будний день, поэтому в целое чисто. довольно много таракан, но их кол-во зависеть от чистоплотность вы и ваш сосед. недалеко пятерочка, аптека и все необходимый. самый главное - 15 минута до политех.\n",
      "\n",
      "2) первый время очень тяжело, все новый, непривычный. очень сильно помогать адаптер: рассказывать про вуз, студенческий жизнь, преподаватель и отвечать на любой вопрос, организовывать встреча.\n",
      "\n",
      "3) в политех очень развитый внеучебный деятельность, можно находить занятие на любой вкус. развитый студклуб, в он постоянно проходить мероприятие. также студсовет устраивать мероприятие прямо в общежитие почти каждый неделя. главный фишка - бесплатный концерт в белый зал политех.  \n",
      "\n",
      "4) столовая на территория политех довольно много, почти в каждый корпус. однако это не избавлять от огромный очередь, иногда не успевать поесть в перерыв. еда нормальный, цена средний, как везде. кстати, быть свой пышечный на территория кампус:). также недалеко от общежитие быть столовая и различный фаст-фуд.\n",
      "\n",
      "5) теперь о самый главное - учиться в политех быть трудно. главный секрет - посещать как можно много пар, а хорошо все - быть намного просто. препод разный, у каждый свой подход, но негативно не мочь ни о кто сказать. большинство(почти весь) препод пытаться научать что-то, доносить материал, относиться небезразличный. основной проблема связывать с готовность студент после школа: препод часто удивляться то, что мы что-то не проходить в школа(проблема образование и сам студент в целое, конечно). важно сказать, что быть такой предмет, как творческий семестр, на который мы слушать оркестр вживый, узнавать много новый об история музыка(очень клевый предмет). кстати, быть возможность заниматься научный деятельность с первый курс. \n",
      "\n",
      "6) главный минус образование в политех - наличие онлайн курс. в наш группа быть 5 онлайн курс, благо не по профильный предмет. ужасный система с единственный плюс - уменьшать количество пара. это максимальный бесполезный вещь, уходить куча время на просмотр лекция, конспект, прохождение тест, чисто физически это очень трудно успевать сделать до дедлайн. но убивать время на курсы не добавлять знание, так как ограниченный общение с препод по предмет не являться плюс. \n",
      "\n",
      "7) нет коррупция. вообще.\n",
      "\n",
      "итого, очень положительный впечатление после 1 семестр. не жалеть, что поступать сюда.\n",
      "\n",
      "P.S. весь вышесказанный относиться к ипмм. не мочь сказать, как в другой институт. \n",
      "\n",
      "P.P.S. учиться в течение семестр, иначе почти невозможно.\n",
      "\n"
     ]
    }
   ],
   "source": [
    "for row in np.array(all_text):\n",
    "    if row == sr:\n",
    "        print(row)\n"
   ]
  },
  {
   "cell_type": "code",
   "execution_count": 102,
   "id": "a1488f75-eed0-43f6-984c-9e477c1a91ae",
   "metadata": {},
   "outputs": [],
   "source": [
    "f1macro = tf.keras.metrics.F1Score(average='macro')"
   ]
  },
  {
   "cell_type": "code",
   "execution_count": 103,
   "id": "31b6d641-ef5f-4186-92de-994229b6eddd",
   "metadata": {},
   "outputs": [],
   "source": [
    "f1micro = tf.keras.metrics.F1Score(average='micro')"
   ]
  },
  {
   "cell_type": "code",
   "execution_count": 123,
   "id": "2c066efb-ccf4-45ab-8e26-f8621e82402b",
   "metadata": {},
   "outputs": [],
   "source": [
    "f1w= tf.keras.metrics.F1Score(average='weighted')"
   ]
  },
  {
   "cell_type": "code",
   "execution_count": 104,
   "id": "93d14884-27dc-4a3f-ae4e-93a177f6fad4",
   "metadata": {},
   "outputs": [],
   "source": [
    "f1 = tf.keras.metrics.F1Score()"
   ]
  },
  {
   "cell_type": "code",
   "execution_count": 105,
   "id": "89eecf4f-75aa-474d-bca7-1a81c2d9eaea",
   "metadata": {},
   "outputs": [],
   "source": [
    "precision = tf.keras.metrics.Precision()"
   ]
  },
  {
   "cell_type": "code",
   "execution_count": 106,
   "id": "dabfd2d6-279d-4a61-9c74-11ffb051f225",
   "metadata": {},
   "outputs": [],
   "source": [
    "recall = tf.keras.metrics.Recall()"
   ]
  },
  {
   "cell_type": "code",
   "execution_count": 107,
   "id": "a6b0f179-beb0-4ab6-a24a-d6db8069c217",
   "metadata": {},
   "outputs": [],
   "source": [
    "acc = tf.keras.metrics.CategoricalAccuracy()"
   ]
  },
  {
   "cell_type": "code",
   "execution_count": 108,
   "id": "15779144-7469-4d5b-8f4d-3a68a1eddcda",
   "metadata": {},
   "outputs": [],
   "source": [
    "d0=[[1,0],[1,0],[1,0],[1,0],[1,0],[1,0],[1,0],[1,0],[0,1],[0,1]]"
   ]
  },
  {
   "cell_type": "code",
   "execution_count": 109,
   "id": "eb1d34eb-0276-403f-85e8-b681a8653d95",
   "metadata": {},
   "outputs": [],
   "source": [
    "d1=[[1,0],[1,0],[1,0],[1,0],[1,0],[1,0],[1,0],[1,0],[1,0],[1,0]]"
   ]
  },
  {
   "cell_type": "code",
   "execution_count": 110,
   "id": "ed165d84-c501-4d7f-91e0-84b4bd4c2f0d",
   "metadata": {},
   "outputs": [],
   "source": [
    "d2=[[1,0],[1,0],[1,0],[1,0],[0,1],[0,1],[0,1],[0,1],[0,1],[1,0]]"
   ]
  },
  {
   "cell_type": "code",
   "execution_count": 112,
   "id": "775821b5-9493-44cf-bb69-6d8ddeeb4dd3",
   "metadata": {},
   "outputs": [
    {
     "data": {
      "text/plain": [
       "<tf.Tensor: shape=(), dtype=float32, numpy=0.8>"
      ]
     },
     "execution_count": 112,
     "metadata": {},
     "output_type": "execute_result"
    }
   ],
   "source": [
    "acc.reset_state()\n",
    "acc.update_state(d0,d1)\n",
    "acc.result()"
   ]
  },
  {
   "cell_type": "code",
   "execution_count": 127,
   "id": "f3a6c8aa-9bf3-4990-bebe-38b102065874",
   "metadata": {},
   "outputs": [
    {
     "data": {
      "text/plain": [
       "<tf.Tensor: shape=(2,), dtype=float32, numpy=array([0.8888889, 0.       ], dtype=float32)>"
      ]
     },
     "execution_count": 127,
     "metadata": {},
     "output_type": "execute_result"
    }
   ],
   "source": [
    "f1.reset_state()\n",
    "f1.update_state(d0,d1)\n",
    "f1.result()"
   ]
  },
  {
   "cell_type": "code",
   "execution_count": 117,
   "id": "9505d7e9-3a41-4232-83c7-d790b2d05091",
   "metadata": {},
   "outputs": [
    {
     "data": {
      "text/plain": [
       "<tf.Tensor: shape=(), dtype=float32, numpy=0.5>"
      ]
     },
     "execution_count": 117,
     "metadata": {},
     "output_type": "execute_result"
    }
   ],
   "source": [
    "precision.reset_state()\n",
    "precision.update_state(d0,d2)\n",
    "precision.result()"
   ]
  },
  {
   "cell_type": "code",
   "execution_count": 60,
   "id": "2724ea9f-d8b7-40e2-bc60-315674fc5cfa",
   "metadata": {},
   "outputs": [
    {
     "data": {
      "text/plain": [
       "<tf.Tensor: shape=(), dtype=float32, numpy=0.4>"
      ]
     },
     "execution_count": 60,
     "metadata": {},
     "output_type": "execute_result"
    }
   ],
   "source": [
    "recall.reset_state()\n",
    "recall.update_state(d0,d2)\n",
    "recall.result()"
   ]
  },
  {
   "cell_type": "code",
   "execution_count": 125,
   "id": "e133e524-13c1-4bc5-b3b7-cebf2811de06",
   "metadata": {},
   "outputs": [
    {
     "data": {
      "text/plain": [
       "<tf.Tensor: shape=(), dtype=float32, numpy=0.7111111>"
      ]
     },
     "execution_count": 125,
     "metadata": {},
     "output_type": "execute_result"
    }
   ],
   "source": [
    "f1w.reset_state()\n",
    "f1w.update_state(d0,d1)\n",
    "f1w.result()"
   ]
  },
  {
   "cell_type": "code",
   "execution_count": 63,
   "id": "7f24798f-6592-416e-851e-feeb43e78649",
   "metadata": {},
   "outputs": [],
   "source": [
    "max_features = 100\n",
    "sequence_length = 10\n",
    "\n",
    "vectorize_layer = keras.layers.TextVectorization(\n",
    "    max_tokens=max_features,\n",
    "    output_mode='int',\n",
    "    output_sequence_length=sequence_length\n",
    ")"
   ]
  },
  {
   "cell_type": "code",
   "execution_count": 64,
   "id": "911d9618-931b-4536-8fb6-9598808b05dc",
   "metadata": {},
   "outputs": [],
   "source": [
    "vectorize_layer.adapt('Это случилось в час невероятно жаркого заката')"
   ]
  },
  {
   "cell_type": "code",
   "execution_count": 37,
   "id": "4e48f31c-2580-45d2-b33c-ef01d4c4c9bb",
   "metadata": {},
   "outputs": [
    {
     "ename": "ValueError",
     "evalue": "Exception encountered when calling TextVectorization.call().\n\n\u001b[1mCan't convert non-rectangular Python sequence to Tensor.\u001b[0m\n\nArguments received by TextVectorization.call():\n  • inputs=[[\"'Это'\", \"'случилось'\"], [\"'Час'\", \"'жаркого'\", \"'заката'\"]]",
     "output_type": "error",
     "traceback": [
      "\u001b[0;31m---------------------------------------------------------------------------\u001b[0m",
      "\u001b[0;31mValueError\u001b[0m                                Traceback (most recent call last)",
      "Cell \u001b[0;32mIn[37], line 1\u001b[0m\n\u001b[0;32m----> 1\u001b[0m \u001b[43mvectorize_layer\u001b[49m\u001b[43m(\u001b[49m\u001b[43m[\u001b[49m\u001b[43m[\u001b[49m\u001b[38;5;124;43m'\u001b[39;49m\u001b[38;5;124;43mЭто\u001b[39;49m\u001b[38;5;124;43m'\u001b[39;49m\u001b[43m,\u001b[49m\u001b[43m \u001b[49m\u001b[38;5;124;43m'\u001b[39;49m\u001b[38;5;124;43mслучилось\u001b[39;49m\u001b[38;5;124;43m'\u001b[39;49m\u001b[43m]\u001b[49m\u001b[43m,\u001b[49m\u001b[43m \u001b[49m\u001b[43m[\u001b[49m\u001b[38;5;124;43m'\u001b[39;49m\u001b[38;5;124;43mЧас\u001b[39;49m\u001b[38;5;124;43m'\u001b[39;49m\u001b[43m,\u001b[49m\u001b[38;5;124;43m'\u001b[39;49m\u001b[38;5;124;43mжаркого\u001b[39;49m\u001b[38;5;124;43m'\u001b[39;49m\u001b[43m,\u001b[49m\u001b[43m \u001b[49m\u001b[38;5;124;43m'\u001b[39;49m\u001b[38;5;124;43mзаката\u001b[39;49m\u001b[38;5;124;43m'\u001b[39;49m\u001b[43m]\u001b[49m\u001b[43m]\u001b[49m\u001b[43m)\u001b[49m\n",
      "File \u001b[0;32m~/ai_venv_2/lib/python3.12/site-packages/keras/src/utils/traceback_utils.py:122\u001b[0m, in \u001b[0;36mfilter_traceback.<locals>.error_handler\u001b[0;34m(*args, **kwargs)\u001b[0m\n\u001b[1;32m    119\u001b[0m     filtered_tb \u001b[38;5;241m=\u001b[39m _process_traceback_frames(e\u001b[38;5;241m.\u001b[39m__traceback__)\n\u001b[1;32m    120\u001b[0m     \u001b[38;5;66;03m# To get the full stack trace, call:\u001b[39;00m\n\u001b[1;32m    121\u001b[0m     \u001b[38;5;66;03m# `keras.config.disable_traceback_filtering()`\u001b[39;00m\n\u001b[0;32m--> 122\u001b[0m     \u001b[38;5;28;01mraise\u001b[39;00m e\u001b[38;5;241m.\u001b[39mwith_traceback(filtered_tb) \u001b[38;5;28;01mfrom\u001b[39;00m \u001b[38;5;28;01mNone\u001b[39;00m\n\u001b[1;32m    123\u001b[0m \u001b[38;5;28;01mfinally\u001b[39;00m:\n\u001b[1;32m    124\u001b[0m     \u001b[38;5;28;01mdel\u001b[39;00m filtered_tb\n",
      "File \u001b[0;32m~/ai_venv_2/lib/python3.12/site-packages/tensorflow/python/framework/constant_op.py:108\u001b[0m, in \u001b[0;36mconvert_to_eager_tensor\u001b[0;34m(value, ctx, dtype)\u001b[0m\n\u001b[1;32m    106\u001b[0m     dtype \u001b[38;5;241m=\u001b[39m dtypes\u001b[38;5;241m.\u001b[39mas_dtype(dtype)\u001b[38;5;241m.\u001b[39mas_datatype_enum\n\u001b[1;32m    107\u001b[0m ctx\u001b[38;5;241m.\u001b[39mensure_initialized()\n\u001b[0;32m--> 108\u001b[0m \u001b[38;5;28;01mreturn\u001b[39;00m \u001b[43mops\u001b[49m\u001b[38;5;241;43m.\u001b[39;49m\u001b[43mEagerTensor\u001b[49m\u001b[43m(\u001b[49m\u001b[43mvalue\u001b[49m\u001b[43m,\u001b[49m\u001b[43m \u001b[49m\u001b[43mctx\u001b[49m\u001b[38;5;241;43m.\u001b[39;49m\u001b[43mdevice_name\u001b[49m\u001b[43m,\u001b[49m\u001b[43m \u001b[49m\u001b[43mdtype\u001b[49m\u001b[43m)\u001b[49m\n",
      "\u001b[0;31mValueError\u001b[0m: Exception encountered when calling TextVectorization.call().\n\n\u001b[1mCan't convert non-rectangular Python sequence to Tensor.\u001b[0m\n\nArguments received by TextVectorization.call():\n  • inputs=[[\"'Это'\", \"'случилось'\"], [\"'Час'\", \"'жаркого'\", \"'заката'\"]]"
     ]
    }
   ],
   "source": [
    "vectorize_layer([['Это', 'случилось'], ['Час','жаркого', 'заката']])"
   ]
  },
  {
   "cell_type": "code",
   "execution_count": 74,
   "id": "40df6b01-745c-4623-ab13-1112d69cfae7",
   "metadata": {},
   "outputs": [
    {
     "data": {
      "text/plain": [
       "[{'analysis': [{'lex': 'это',\n",
       "    'wt': 0.7809833731,\n",
       "    'gr': 'SPRO,ед,сред,неод=(вин|им)'}],\n",
       "  'text': 'Это'},\n",
       " {'text': ' '},\n",
       " {'analysis': [{'lex': 'случаться',\n",
       "    'wt': 1,\n",
       "    'gr': 'V,нп=прош,ед,изъяв,сред,сов'}],\n",
       "  'text': 'случилось'},\n",
       " {'text': ': '},\n",
       " {'analysis': [{'lex': 'в', 'wt': 0.9999917878, 'gr': 'PR='}], 'text': 'в'},\n",
       " {'text': ' '},\n",
       " {'analysis': [{'lex': 'час', 'wt': 1, 'gr': 'S,муж,неод=(вин,ед|им,ед)'}],\n",
       "  'text': 'час'},\n",
       " {'text': ' '},\n",
       " {'analysis': [{'lex': 'невероятно', 'wt': 0.8008481654, 'gr': 'ADV='}],\n",
       "  'text': 'невероятно'},\n",
       " {'text': ' '},\n",
       " {'analysis': [{'lex': 'жаркий',\n",
       "    'wt': 0.7113804921,\n",
       "    'gr': 'A=(вин,ед,полн,муж,од|род,ед,полн,муж|род,ед,полн,сред)'}],\n",
       "  'text': 'жаркого'},\n",
       " {'text': ' '},\n",
       " {'analysis': [{'lex': 'закат', 'wt': 1, 'gr': 'S,муж,неод=род,ед'}],\n",
       "  'text': 'заката'},\n",
       " {'text': '\\n'}]"
      ]
     },
     "execution_count": 74,
     "metadata": {},
     "output_type": "execute_result"
    }
   ],
   "source": [
    "mystem.analyze('Это случилось: в час невероятно жаркого заката')"
   ]
  },
  {
   "cell_type": "code",
   "execution_count": 75,
   "id": "0f932d0b-8b83-41c7-97f6-0ec49dac1b35",
   "metadata": {},
   "outputs": [],
   "source": [
    "import datetime"
   ]
  },
  {
   "cell_type": "code",
   "execution_count": 76,
   "id": "fd4f9e90-0c82-4f9f-9ef4-dfe1b62ff1a7",
   "metadata": {},
   "outputs": [],
   "source": [
    "d = datetime.datetime.now()"
   ]
  },
  {
   "cell_type": "code",
   "execution_count": 77,
   "id": "b13a1ca0-ace4-4d9f-b297-f3986bdb9488",
   "metadata": {},
   "outputs": [
    {
     "data": {
      "text/plain": [
       "datetime.datetime(2024, 6, 8, 11, 10, 41, 914589)"
      ]
     },
     "execution_count": 77,
     "metadata": {},
     "output_type": "execute_result"
    }
   ],
   "source": [
    "d"
   ]
  },
  {
   "cell_type": "code",
   "execution_count": 81,
   "id": "f731d1d6-a866-496b-93db-b31f16b57bf6",
   "metadata": {},
   "outputs": [
    {
     "data": {
      "text/plain": [
       "'2024-06-08 11:10:41'"
      ]
     },
     "execution_count": 81,
     "metadata": {},
     "output_type": "execute_result"
    }
   ],
   "source": [
    "d.strftime(\"%Y-%m-%d %H:%M:%S\")"
   ]
  },
  {
   "cell_type": "code",
   "execution_count": 90,
   "id": "f26a25fe-3a10-4f38-8bde-7b81780b8678",
   "metadata": {},
   "outputs": [
    {
     "data": {
      "text/plain": [
       "'logs/fit-NAME/2024-06-08 11-18-25'"
      ]
     },
     "execution_count": 90,
     "metadata": {},
     "output_type": "execute_result"
    }
   ],
   "source": [
    "NAME = 'NAME'\n",
    "log_dir = f\"logs/fit-{NAME}/{datetime.datetime.now().strftime(\"%Y-%m-%d %H-%M-%S\")}\"\n",
    "\n",
    "\n",
    "log_dir"
   ]
  },
  {
   "cell_type": "code",
   "execution_count": 92,
   "id": "622d4c0b-2fc4-431a-821c-2c83a1dbf8db",
   "metadata": {},
   "outputs": [],
   "source": [
    "df = pd.read_json('/home/alex/Data/datasets/tabiturient/unique-reviews.jsonl', lines=True)"
   ]
  },
  {
   "cell_type": "code",
   "execution_count": 93,
   "id": "3fbff8d8-3ea7-47fe-8ec4-7b76f838ec73",
   "metadata": {},
   "outputs": [],
   "source": [
    "dfl = np.array(df['label'])"
   ]
  },
  {
   "cell_type": "code",
   "execution_count": 94,
   "id": "9f55c134-0a7e-4345-9302-1f75314e7d1d",
   "metadata": {},
   "outputs": [],
   "source": [
    "call = len(dfl)"
   ]
  },
  {
   "cell_type": "code",
   "execution_count": 95,
   "id": "b70ede9c-8091-49d5-8f52-7c4a99018583",
   "metadata": {},
   "outputs": [
    {
     "data": {
      "text/plain": [
       "3595"
      ]
     },
     "execution_count": 95,
     "metadata": {},
     "output_type": "execute_result"
    }
   ],
   "source": [
    "call"
   ]
  },
  {
   "cell_type": "code",
   "execution_count": 96,
   "id": "2ab8afdf-d491-498d-8f0e-56025a79a170",
   "metadata": {},
   "outputs": [],
   "source": [
    "c0 = len(dfl[df['label']==0])"
   ]
  },
  {
   "cell_type": "code",
   "execution_count": 97,
   "id": "f682f501-6dd2-4ef9-b444-9b43b76ae2ce",
   "metadata": {},
   "outputs": [
    {
     "data": {
      "text/plain": [
       "1792"
      ]
     },
     "execution_count": 97,
     "metadata": {},
     "output_type": "execute_result"
    }
   ],
   "source": [
    "c0"
   ]
  },
  {
   "cell_type": "code",
   "execution_count": 98,
   "id": "57f240f2-46c9-4f5b-9ff9-08c35aa2f649",
   "metadata": {},
   "outputs": [],
   "source": [
    "c1 = len(dfl[df['label']==1])"
   ]
  },
  {
   "cell_type": "code",
   "execution_count": 99,
   "id": "e6b79b25-0957-4e89-9719-b46b7bdfa375",
   "metadata": {},
   "outputs": [],
   "source": [
    "c2 = len(dfl[df['label']==2])"
   ]
  },
  {
   "cell_type": "code",
   "execution_count": 101,
   "id": "c77f96ac-bfbd-4441-85af-8d330b8a85f5",
   "metadata": {},
   "outputs": [
    {
     "name": "stdout",
     "output_type": "stream",
     "text": [
      "0.4984700973574409 0.18915159944367177 0.3123783031988873\n"
     ]
    }
   ],
   "source": [
    "print(c0/call,c1/call,c2/call)"
   ]
  },
  {
   "cell_type": "code",
   "execution_count": null,
   "id": "bd770dfc-6800-4ca5-947a-26f6b6fd5ede",
   "metadata": {},
   "outputs": [],
   "source": []
  }
 ],
 "metadata": {
  "kernelspec": {
   "display_name": "Python 3 (ipykernel)",
   "language": "python",
   "name": "python3"
  },
  "language_info": {
   "codemirror_mode": {
    "name": "ipython",
    "version": 3
   },
   "file_extension": ".py",
   "mimetype": "text/x-python",
   "name": "python",
   "nbconvert_exporter": "python",
   "pygments_lexer": "ipython3",
   "version": "3.12.3"
  }
 },
 "nbformat": 4,
 "nbformat_minor": 5
}
