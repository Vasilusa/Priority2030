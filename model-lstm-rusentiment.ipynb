{
 "cells": [
  {
   "cell_type": "code",
   "execution_count": 2,
   "metadata": {
    "id": "Tw4-oItLen5R"
   },
   "outputs": [],
   "source": [
    "NAME = 'lstm-rusentiment'"
   ]
  },
  {
   "cell_type": "code",
   "execution_count": 1,
   "metadata": {
    "colab": {
     "base_uri": "https://localhost:8080/"
    },
    "id": "ykNFy_a7e0Kc",
    "outputId": "1de14d73-8b02-4440-c75e-9cdd5b55ee51"
   },
   "outputs": [
    {
     "name": "stdout",
     "output_type": "stream",
     "text": [
      "Mounted at /content/drive\n"
     ]
    }
   ],
   "source": [
    "from google.colab import drive\n",
    "drive.mount('/content/drive')"
   ]
  },
  {
   "cell_type": "code",
   "execution_count": 3,
   "metadata": {
    "id": "CBXwQ0SdffHZ"
   },
   "outputs": [],
   "source": [
    "import sys\n",
    "sys.path.append(\"drive/MyDrive/Colab Notebooks\")"
   ]
  },
  {
   "cell_type": "code",
   "execution_count": 4,
   "metadata": {
    "colab": {
     "base_uri": "https://localhost:8080/"
    },
    "id": "9FGLrFmAe_rj",
    "outputId": "10a03659-e921-4ec2-860a-0da85957e2cb"
   },
   "outputs": [
    {
     "name": "stderr",
     "output_type": "stream",
     "text": [
      "Installing mystem to /root/.local/bin/mystem from http://download.cdn.yandex.net/mystem/mystem-3.1-linux-64bit.tar.gz\n"
     ]
    }
   ],
   "source": [
    "import numpy as np\n",
    "import pandas as pd\n",
    "import matplotlib.pyplot as plt\n",
    "import os\n",
    "import re\n",
    "import shutil\n",
    "import string\n",
    "import tensorflow as tf\n",
    "import keras\n",
    "\n",
    "from tensorflow.keras import layers\n",
    "from tensorflow.keras import losses\n",
    "\n",
    "import matplotlib.pyplot as plt\n",
    "\n",
    "import datetime\n",
    "\n",
    "import mydata as md\n",
    "\n",
    "data = md.Data('drive/MyDrive/cache')\n"
   ]
  },
  {
   "cell_type": "code",
   "execution_count": 5,
   "metadata": {
    "id": "zVhpjnoif2X4"
   },
   "outputs": [],
   "source": [
    "raw_train_ds, raw_valid_ds, raw_test_ds = data.load('ru-sentiment')"
   ]
  },
  {
   "cell_type": "code",
   "execution_count": 6,
   "metadata": {
    "id": "XB8dJd38gFup"
   },
   "outputs": [],
   "source": [
    "max_features = 20000\n",
    "sequence_length = 1000\n",
    "\n",
    "vectorize_layer = keras.layers.TextVectorization(\n",
    "    max_tokens=max_features,\n",
    "    output_mode='int',\n",
    "    output_sequence_length=sequence_length\n",
    ")"
   ]
  },
  {
   "cell_type": "code",
   "execution_count": 7,
   "metadata": {
    "id": "K-zLBfV9gIip"
   },
   "outputs": [],
   "source": [
    "vectorize_layer.adapt(raw_train_ds.map(lambda x,y: x))"
   ]
  },
  {
   "cell_type": "code",
   "execution_count": 8,
   "metadata": {
    "id": "z_u602yEiEyc"
   },
   "outputs": [],
   "source": [
    "train_ds = data.vectorize(raw_train_ds, vectorize_layer)\n",
    "valid_ds = data.vectorize(raw_valid_ds, vectorize_layer)\n",
    "test_ds = data.vectorize(raw_test_ds, vectorize_layer)\n"
   ]
  },
  {
   "cell_type": "code",
   "execution_count": 9,
   "metadata": {
    "id": "jeIWcywduKZ1"
   },
   "outputs": [],
   "source": [
    "train_ds_filtered = train_ds.filter(lambda x,y: tf.equal(len(x),1000))\n",
    "valid_ds_filtered = valid_ds.filter(lambda x,y: tf.equal(len(x),1000))\n",
    "test_ds_filtered = test_ds.filter(lambda x,y: tf.equal(len(x),1000))"
   ]
  },
  {
   "cell_type": "code",
   "execution_count": 10,
   "metadata": {
    "id": "Iz4MB2UHiMWz"
   },
   "outputs": [],
   "source": [
    "#train_ds_batch=train_ds.shuffle(len(train_ds), reshuffle_each_iteration=False).batch(64)\n",
    "train_ds_batch=train_ds_filtered.batch(256)\n",
    "\n",
    "valid_ds_batch=valid_ds_filtered.batch(256)\n",
    "test_ds_batch=test_ds_filtered.batch(256)"
   ]
  },
  {
   "cell_type": "code",
   "execution_count": 11,
   "metadata": {
    "colab": {
     "base_uri": "https://localhost:8080/"
    },
    "id": "Z6RgyeMJiWU7",
    "outputId": "c22abc30-63bc-48c6-d16e-dfe20cd02742"
   },
   "outputs": [
    {
     "name": "stdout",
     "output_type": "stream",
     "text": [
      "Model: \"sequential\"\n",
      "_________________________________________________________________\n",
      " Layer (type)                Output Shape              Param #   \n",
      "=================================================================\n",
      " embedding (Embedding)       (None, 1000, 64)          1280000   \n",
      "                                                                 \n",
      " bidirectional (Bidirection  (None, 128)               66048     \n",
      " al)                                                             \n",
      "                                                                 \n",
      " dropout (Dropout)           (None, 128)               0         \n",
      "                                                                 \n",
      " dense_1 (Dense)             (None, 128)               16512     \n",
      "                                                                 \n",
      " dropout_1 (Dropout)         (None, 128)               0         \n",
      "                                                                 \n",
      " dense_2 (Dense)             (None, 3)                 387       \n",
      "                                                                 \n",
      "=================================================================\n",
      "Total params: 1362947 (5.20 MB)\n",
      "Trainable params: 1362947 (5.20 MB)\n",
      "Non-trainable params: 0 (0.00 Byte)\n",
      "_________________________________________________________________\n"
     ]
    }
   ],
   "source": [
    " embedding_dim=64\n",
    "\n",
    " embedding_layer = tf.keras.layers.Embedding(\n",
    "     input_dim=(max_features),\n",
    "     output_dim=embedding_dim,\n",
    "     mask_zero=True\n",
    " )\n",
    " bidirectional_layer = tf.keras.layers.Bidirectional(tf.keras.layers.LSTM(64, dropout=0.5, recurrent_dropout=0))\n",
    " dense_layer = tf.keras.layers.Dense(128, activation='relu', kernel_regularizer=None, kernel_initializer='he_normal')\n",
    "\n",
    " model = tf.keras.Sequential([\n",
    "     keras.Input(shape=(1000,), dtype=\"int64\"),\n",
    "     embedding_layer,\n",
    "     bidirectional_layer,\n",
    "     tf.keras.layers.Dropout(0.5),\n",
    "     tf.keras.layers.Dense(128, activation='relu', kernel_regularizer=None, kernel_initializer='he_normal'),\n",
    "     tf.keras.layers.Dropout(0.5),\n",
    "     tf.keras.layers.Dense(3, kernel_regularizer=None, kernel_initializer='he_normal')\n",
    " ])\n",
    " model.summary()\n",
    "\n",
    " model.compile(loss=losses.CategoricalCrossentropy(from_logits=True),\n",
    "               optimizer='rmsprop',\n",
    "               metrics=['accuracy', tf.keras.metrics.F1Score(average='macro')])"
   ]
  },
  {
   "cell_type": "code",
   "execution_count": null,
   "metadata": {
    "colab": {
     "base_uri": "https://localhost:8080/"
    },
    "id": "uYO-0usxGa0R",
    "outputId": "e82c5e58-a8c3-4515-8dc8-6bb49f6fd267"
   },
   "outputs": [
    {
     "name": "stdout",
     "output_type": "stream",
     "text": [
      "Model: \"sequential\"\n",
      "_________________________________________________________________\n",
      " Layer (type)                Output Shape              Param #   \n",
      "=================================================================\n",
      " embedding (Embedding)       (None, None, 64)          1280000   \n",
      "                                                                 \n",
      " conv1d (Conv1D)             (None, None, 128)         41088     \n",
      "                                                                 \n",
      " global_max_pooling1d (Glob  (None, 128)               0         \n",
      " alMaxPooling1D)                                                 \n",
      "                                                                 \n",
      " dropout (Dropout)           (None, 128)               0         \n",
      "                                                                 \n",
      " dense (Dense)               (None, 128)               16512     \n",
      "                                                                 \n",
      " dropout_1 (Dropout)         (None, 128)               0         \n",
      "                                                                 \n",
      " dense_1 (Dense)             (None, 3)                 387       \n",
      "                                                                 \n",
      "=================================================================\n",
      "Total params: 1337987 (5.10 MB)\n",
      "Trainable params: 1337987 (5.10 MB)\n",
      "Non-trainable params: 0 (0.00 Byte)\n",
      "_________________________________________________________________\n"
     ]
    }
   ],
   "source": [
    "embedding_dim=64\n",
    "\n",
    "embedding_layer = tf.keras.layers.Embedding(\n",
    "    input_dim=(max_features),\n",
    "    output_dim=embedding_dim,\n",
    "    mask_zero=False\n",
    ")\n",
    "\n",
    "model = tf.keras.Sequential([\n",
    "    keras.Input(shape=(None,), dtype=\"int64\"),\n",
    "    embedding_layer,\n",
    "    tf.keras.layers.Conv1D(128, 5, activation='relu', kernel_initializer='he_normal'),\n",
    "    tf.keras.layers.GlobalMaxPool1D(),\n",
    "    tf.keras.layers.Dropout(0.5),\n",
    "    tf.keras.layers.Dense(128, activation='relu', kernel_regularizer=None, kernel_initializer='he_normal'),\n",
    "    tf.keras.layers.Dropout(0.5),\n",
    "    tf.keras.layers.Dense(3, kernel_regularizer=None, kernel_initializer='he_normal')\n",
    "])\n",
    "model.summary()\n",
    "\n",
    "model.compile(loss=losses.CategoricalCrossentropy(from_logits=True),\n",
    "              optimizer='rmsprop',\n",
    "              metrics=['accuracy', tf.keras.metrics.F1Score(average='macro')])"
   ]
  },
  {
   "cell_type": "code",
   "execution_count": 12,
   "metadata": {
    "colab": {
     "base_uri": "https://localhost:8080/"
    },
    "id": "gInRJv05nCSe",
    "outputId": "c0b95ce7-1575-427a-fc0c-f4ec5dfe539a"
   },
   "outputs": [
    {
     "name": "stdout",
     "output_type": "stream",
     "text": [
      "Epoch 1/10\n",
      "742/742 [==============================] - 154s 193ms/step - loss: 0.6808 - accuracy: 0.6839 - f1_score: 0.6641 - val_loss: 0.5916 - val_accuracy: 0.7233 - val_f1_score: 0.6890\n",
      "Epoch 2/10\n",
      "742/742 [==============================] - 86s 115ms/step - loss: 0.5602 - accuracy: 0.7473 - f1_score: 0.7358 - val_loss: 0.5647 - val_accuracy: 0.7353 - val_f1_score: 0.7059\n",
      "Epoch 3/10\n",
      "742/742 [==============================] - 84s 113ms/step - loss: 0.5292 - accuracy: 0.7624 - f1_score: 0.7513 - val_loss: 0.5432 - val_accuracy: 0.7443 - val_f1_score: 0.7173\n",
      "Epoch 4/10\n",
      "742/742 [==============================] - 85s 115ms/step - loss: 0.5094 - accuracy: 0.7733 - f1_score: 0.7622 - val_loss: 0.5256 - val_accuracy: 0.7610 - val_f1_score: 0.7395\n",
      "Epoch 5/10\n",
      "742/742 [==============================] - 83s 112ms/step - loss: 0.4928 - accuracy: 0.7829 - f1_score: 0.7719 - val_loss: 0.5362 - val_accuracy: 0.7577 - val_f1_score: 0.7335\n",
      "Epoch 6/10\n",
      "742/742 [==============================] - 85s 114ms/step - loss: 0.4787 - accuracy: 0.7887 - f1_score: 0.7777 - val_loss: 0.5165 - val_accuracy: 0.7656 - val_f1_score: 0.7428\n",
      "Epoch 7/10\n",
      "742/742 [==============================] - 84s 113ms/step - loss: 0.4655 - accuracy: 0.7966 - f1_score: 0.7859 - val_loss: 0.5118 - val_accuracy: 0.7699 - val_f1_score: 0.7593\n",
      "Epoch 8/10\n",
      "742/742 [==============================] - 86s 116ms/step - loss: 0.4569 - accuracy: 0.8019 - f1_score: 0.7916 - val_loss: 0.5227 - val_accuracy: 0.7714 - val_f1_score: 0.7507\n",
      "Epoch 9/10\n",
      "742/742 [==============================] - 85s 114ms/step - loss: 0.4440 - accuracy: 0.8077 - f1_score: 0.7973 - val_loss: 0.5155 - val_accuracy: 0.7711 - val_f1_score: 0.7512\n",
      "Epoch 10/10\n",
      "742/742 [==============================] - 84s 113ms/step - loss: 0.4357 - accuracy: 0.8122 - f1_score: 0.8021 - val_loss: 0.5303 - val_accuracy: 0.7726 - val_f1_score: 0.7560\n"
     ]
    }
   ],
   "source": [
    "checkpoint_filepath = f\"models/checkpoint_{NAME}.weights.h5\"\n",
    "\n",
    "log_dir = f\"logs/fit-{NAME}/{datetime.datetime.now().strftime('%Y-%m-%d %H-%M-%S')}\"\n",
    "\n",
    "epochs = 10\n",
    "history = model.fit(\n",
    "    train_ds_batch,\n",
    "    validation_data=valid_ds_batch,\n",
    "    epochs=epochs,\n",
    "    callbacks = [\n",
    "        keras.callbacks.ModelCheckpoint(\n",
    "            filepath=checkpoint_filepath,\n",
    "            monitor='val_accuracy',\n",
    "            mode='max',\n",
    "            save_weights_only=True,\n",
    "            save_best_only=True\n",
    "        ),\n",
    "        tf.keras.callbacks.TensorBoard(log_dir=log_dir, histogram_freq=1)\n",
    "    ]\n",
    ")"
   ]
  },
  {
   "cell_type": "code",
   "execution_count": 20,
   "metadata": {
    "colab": {
     "base_uri": "https://localhost:8080/",
     "height": 472
    },
    "id": "P2yhf63f5HM6",
    "outputId": "5c1ee736-fb71-4a32-d3b8-f008c4d6c606"
   },
   "outputs": [
    {
     "data": {
      "image/png": "[encoded data removed]",
      "text/plain": [
       "<Figure size 640x480 with 1 Axes>"
      ]
     },
     "metadata": {},
     "output_type": "display_data"
    }
   ],
   "source": [
    "data.plot(history)"
   ]
  },
  {
   "cell_type": "code",
   "execution_count": 13,
   "metadata": {
    "id": "paj9ncPa4cgc"
   },
   "outputs": [],
   "source": [
    "model.save(f\"drive/MyDrive/models/model-{NAME}.keras\")"
   ]
  },
  {
   "cell_type": "code",
   "execution_count": 14,
   "metadata": {
    "id": "sA0prt3H2m79"
   },
   "outputs": [],
   "source": [
    "raw_tab_train_ds, raw_tab_valid_ds, raw_tab_test_ds = data.load('tabiturient')"
   ]
  },
  {
   "cell_type": "code",
   "execution_count": 15,
   "metadata": {
    "id": "86UWWkY02-u9"
   },
   "outputs": [],
   "source": [
    "train_tab_ds = data.vectorize(raw_tab_train_ds, vectorize_layer)\n",
    "valid_tab_ds = data.vectorize(raw_tab_valid_ds, vectorize_layer)\n",
    "test_tab_ds = data.vectorize(raw_tab_test_ds, vectorize_layer)\n"
   ]
  },
  {
   "cell_type": "code",
   "execution_count": 16,
   "metadata": {
    "colab": {
     "base_uri": "https://localhost:8080/"
    },
    "id": "WXUhmG1r20jd",
    "outputId": "961c214d-8aaf-433a-b138-bb42ab962a6b"
   },
   "outputs": [
    {
     "name": "stdout",
     "output_type": "stream",
     "text": [
      "42/42 [==============================] - 3s 58ms/step - loss: 0.5115 - accuracy: 0.7820 - f1_score: 0.7664\n"
     ]
    },
    {
     "data": {
      "text/plain": [
       "[0.5115034580230713, 0.7819698452949524, 0.7663965821266174]"
      ]
     },
     "execution_count": 16,
     "metadata": {},
     "output_type": "execute_result"
    }
   ],
   "source": [
    "model.evaluate(test_ds.batch(256))"
   ]
  },
  {
   "cell_type": "code",
   "execution_count": 19,
   "metadata": {
    "colab": {
     "base_uri": "https://localhost:8080/"
    },
    "id": "K_KhrzHlL4QJ",
    "outputId": "fa4cdc53-04bc-4bb7-e75b-83cd04420d22"
   },
   "outputs": [
    {
     "name": "stdout",
     "output_type": "stream",
     "text": [
      "2/2 [==============================] - 0s 53ms/step - loss: 1.9511 - accuracy: 0.3611 - f1_score: 0.3296\n"
     ]
    },
    {
     "data": {
      "text/plain": [
       "[1.951140284538269, 0.3611111044883728, 0.329576700925827]"
      ]
     },
     "execution_count": 19,
     "metadata": {},
     "output_type": "execute_result"
    }
   ],
   "source": [
    "model.evaluate(test_tab_ds.batch(256))"
   ]
  },
  {
   "cell_type": "code",
   "execution_count": 21,
   "metadata": {
    "id": "14l-6JES3bM5"
   },
   "outputs": [],
   "source": [
    "model.compile(loss=losses.CategoricalCrossentropy(from_logits=True),\n",
    "              optimizer=tf.keras.optimizers.Adam(1e-5),\n",
    "              metrics=['accuracy', tf.keras.metrics.F1Score(average='macro')])"
   ]
  },
  {
   "cell_type": "code",
   "execution_count": 22,
   "metadata": {
    "colab": {
     "base_uri": "https://localhost:8080/"
    },
    "id": "CmtXMLv73pJI",
    "outputId": "134e4ffc-c914-4233-af8d-130cccab8633"
   },
   "outputs": [
    {
     "name": "stdout",
     "output_type": "stream",
     "text": [
      "Epoch 1/10\n",
      "180/180 [==============================] - 52s 239ms/step - loss: 1.6077 - accuracy: 0.4019 - f1_score: 0.3875 - val_loss: 1.2465 - val_accuracy: 0.4568 - val_f1_score: 0.4536\n",
      "Epoch 2/10\n",
      "180/180 [==============================] - 11s 63ms/step - loss: 1.1674 - accuracy: 0.4910 - f1_score: 0.4875 - val_loss: 1.0028 - val_accuracy: 0.5097 - val_f1_score: 0.4952\n",
      "Epoch 3/10\n",
      "180/180 [==============================] - 12s 66ms/step - loss: 1.0449 - accuracy: 0.5421 - f1_score: 0.5197 - val_loss: 0.9054 - val_accuracy: 0.5571 - val_f1_score: 0.5099\n",
      "Epoch 4/10\n",
      "180/180 [==============================] - 12s 65ms/step - loss: 0.9678 - accuracy: 0.5845 - f1_score: 0.5425 - val_loss: 0.8773 - val_accuracy: 0.6045 - val_f1_score: 0.5485\n",
      "Epoch 5/10\n",
      "180/180 [==============================] - 12s 66ms/step - loss: 0.9025 - accuracy: 0.6026 - f1_score: 0.5528 - val_loss: 0.8505 - val_accuracy: 0.6212 - val_f1_score: 0.5545\n",
      "Epoch 6/10\n",
      "180/180 [==============================] - 12s 65ms/step - loss: 0.9008 - accuracy: 0.6078 - f1_score: 0.5481 - val_loss: 0.8325 - val_accuracy: 0.6212 - val_f1_score: 0.5523\n",
      "Epoch 7/10\n",
      "180/180 [==============================] - 12s 65ms/step - loss: 0.8742 - accuracy: 0.6172 - f1_score: 0.5581 - val_loss: 0.8146 - val_accuracy: 0.6435 - val_f1_score: 0.5681\n",
      "Epoch 8/10\n",
      "180/180 [==============================] - 12s 65ms/step - loss: 0.8684 - accuracy: 0.6179 - f1_score: 0.5571 - val_loss: 0.8076 - val_accuracy: 0.6462 - val_f1_score: 0.5737\n",
      "Epoch 9/10\n",
      "180/180 [==============================] - 12s 65ms/step - loss: 0.8529 - accuracy: 0.6325 - f1_score: 0.5684 - val_loss: 0.8030 - val_accuracy: 0.6462 - val_f1_score: 0.5740\n",
      "Epoch 10/10\n",
      "180/180 [==============================] - 12s 65ms/step - loss: 0.8282 - accuracy: 0.6401 - f1_score: 0.5738 - val_loss: 0.7909 - val_accuracy: 0.6574 - val_f1_score: 0.5675\n"
     ]
    }
   ],
   "source": [
    "history = model.fit(\n",
    "    train_tab_ds.batch(16),\n",
    "    validation_data=valid_tab_ds.batch(16),\n",
    "    epochs=10\n",
    ")"
   ]
  },
  {
   "cell_type": "code",
   "execution_count": 24,
   "metadata": {
    "colab": {
     "base_uri": "https://localhost:8080/"
    },
    "id": "5iQQAvJI5ESI",
    "outputId": "165c8f9c-a214-4062-d3b4-52653469e419"
   },
   "outputs": [
    {
     "name": "stdout",
     "output_type": "stream",
     "text": [
      "2/2 [==============================] - 0s 59ms/step - loss: 0.7706 - accuracy: 0.6694 - f1_score: 0.6069\n"
     ]
    },
    {
     "data": {
      "text/plain": [
       "[0.7706312537193298, 0.6694444417953491, 0.6069130301475525]"
      ]
     },
     "execution_count": 24,
     "metadata": {},
     "output_type": "execute_result"
    }
   ],
   "source": [
    "model.evaluate(test_tab_ds.batch(256))"
   ]
  },
  {
   "cell_type": "code",
   "execution_count": 23,
   "metadata": {
    "colab": {
     "base_uri": "https://localhost:8080/",
     "height": 472
    },
    "id": "NP5N-7UT_Dg4",
    "outputId": "0e59af9a-8bb5-4c32-9c68-a58ced98b3a5"
   },
   "outputs": [
    {
     "data": {
      "image/png": "[encoded data removed]",
      "text/plain": [
       "<Figure size 640x480 with 1 Axes>"
      ]
     },
     "metadata": {},
     "output_type": "display_data"
    }
   ],
   "source": [
    "data.plot(history)"
   ]
  }
 ],
 "metadata": {
  "accelerator": "GPU",
  "colab": {
   "gpuType": "T4",
   "provenance": []
  },
  "kernelspec": {
   "display_name": "Python 3 (ipykernel)",
   "language": "python",
   "name": "python3"
  },
  "language_info": {
   "codemirror_mode": {
    "name": "ipython",
    "version": 3
   },
   "file_extension": ".py",
   "mimetype": "text/x-python",
   "name": "python",
   "nbconvert_exporter": "python",
   "pygments_lexer": "ipython3",
   "version": "3.12.3"
  }
 },
 "nbformat": 4,
 "nbformat_minor": 4
}
