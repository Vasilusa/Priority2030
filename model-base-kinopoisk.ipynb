{
 "cells": [
  {
   "cell_type": "code",
   "execution_count": 1,
   "id": "89ca02b1-8786-4182-9eed-d75f2cc7e465",
   "metadata": {},
   "outputs": [],
   "source": [
    "NAME = 'base-kinopoisk'"
   ]
  },
  {
   "cell_type": "code",
   "execution_count": 2,
   "id": "f92ddddc-12c1-4e45-83d4-9d377417e7eb",
   "metadata": {
    "scrolled": true
   },
   "outputs": [
    {
     "name": "stderr",
     "output_type": "stream",
     "text": [
      "2024-06-10 23:59:56.783805: W tensorflow/compiler/tf2tensorrt/utils/py_utils.cc:38] TF-TRT Warning: Could not find TensorRT\n"
     ]
    }
   ],
   "source": [
    "import numpy as np\n",
    "import pandas as pd\n",
    "import matplotlib.pyplot as plt\n",
    "import os\n",
    "import re\n",
    "import shutil\n",
    "import string\n",
    "import tensorflow as tf\n",
    "import keras\n",
    "\n",
    "from tensorflow.keras import layers\n",
    "from tensorflow.keras import losses\n",
    "\n",
    "import matplotlib.pyplot as plt"
   ]
  },
  {
   "cell_type": "code",
   "execution_count": 3,
   "id": "77298be6-e4c4-4a51-94c9-8d390710a3bb",
   "metadata": {
    "scrolled": true
   },
   "outputs": [],
   "source": [
    "import datetime\n",
    "\n",
    "import mydata as md\n",
    "\n",
    "data = md.Data('cache')\n"
   ]
  },
  {
   "cell_type": "code",
   "execution_count": 4,
   "id": "03f8ae0d-9eec-41ef-a118-2072ff1f96b0",
   "metadata": {},
   "outputs": [],
   "source": [
    "raw_train_ds, raw_valid_ds, raw_test_ds = data.load('kinopoisk')"
   ]
  },
  {
   "cell_type": "code",
   "execution_count": 8,
   "id": "0c6c9225-8e9b-40f8-8214-03d534883b6d",
   "metadata": {},
   "outputs": [],
   "source": [
    "max_features = 20000\n",
    "sequence_length = 1000\n",
    "\n",
    "vectorize_layer = keras.layers.TextVectorization(\n",
    "    max_tokens=max_features,\n",
    "    output_mode='int',\n",
    "    ngrams=3,\n",
    "    output_sequence_length=sequence_length\n",
    ")"
   ]
  },
  {
   "cell_type": "code",
   "execution_count": 9,
   "id": "dca88977-f537-4941-b6a3-7673e3dd10ff",
   "metadata": {},
   "outputs": [
    {
     "name": "stderr",
     "output_type": "stream",
     "text": [
      "2024-06-11 00:06:55.755661: I tensorflow/core/framework/local_rendezvous.cc:404] Local rendezvous is aborting with status: OUT_OF_RANGE: End of sequence\n",
      "2024-06-11 00:06:55.760192: W external/local_tsl/tsl/framework/cpu_allocator_impl.cc:83] Allocation of 83964960 exceeds 10% of free system memory.\n",
      "2024-06-11 00:07:02.639117: W external/local_tsl/tsl/framework/cpu_allocator_impl.cc:83] Allocation of 83964960 exceeds 10% of free system memory.\n"
     ]
    }
   ],
   "source": [
    "vectorize_layer.adapt(raw_train_ds.map(lambda x,y: x))"
   ]
  },
  {
   "cell_type": "code",
   "execution_count": 10,
   "id": "93d3a71c-cc90-4e61-86aa-d28043751091",
   "metadata": {},
   "outputs": [],
   "source": [
    "train_ds = data.vectorize(raw_train_ds, vectorize_layer)\n",
    "valid_ds = data.vectorize(raw_valid_ds, vectorize_layer)\n",
    "test_ds = data.vectorize(raw_test_ds, vectorize_layer)\n"
   ]
  },
  {
   "cell_type": "code",
   "execution_count": 11,
   "id": "dd5db3ea-430f-480f-80ca-c105a0a41618",
   "metadata": {},
   "outputs": [],
   "source": [
    "train_ds_batch=train_ds.shuffle(len(train_ds), reshuffle_each_iteration=True).batch(64)\n",
    "valid_ds_batch=valid_ds.batch(64)\n",
    "test_ds_batch=test_ds.batch(64)\n"
   ]
  },
  {
   "cell_type": "code",
   "execution_count": null,
   "id": "cc163ccf-a658-41ef-9b2b-2aa175854302",
   "metadata": {},
   "outputs": [],
   "source": [
    "embedding_dim=64\n",
    "\n",
    "embedding_layer = tf.keras.layers.Embedding(\n",
    "    input_dim=(max_features),\n",
    "    output_dim=embedding_dim,\n",
    "    mask_zero=False\n",
    ")\n",
    "\n",
    "model = tf.keras.Sequential([\n",
    "    keras.Input(shape=(None,), dtype=\"int64\"),\n",
    "    embedding_layer,\n",
    "    tf.keras.layers.GlobalMaxPool1D(),\n",
    "    tf.keras.layers.Dropout(0.5),\n",
    "    tf.keras.layers.Dense(64, activation='relu', kernel_regularizer=None, kernel_initializer='he_normal'),\n",
    "    tf.keras.layers.Dropout(0.5),\n",
    "    tf.keras.layers.Dense(3, kernel_regularizer=None, kernel_initializer='he_normal')\n",
    "])\n",
    "model.summary()\n",
    "\n",
    "model.compile(loss=losses.CategoricalCrossentropy(from_logits=True),\n",
    "              optimizer='rmsprop',\n",
    "              metrics=['accuracy', tf.keras.metrics.F1Score(average='macro')])"
   ]
  },
  {
   "cell_type": "code",
   "execution_count": 16,
   "id": "69f54b1b-d41a-4bc2-9340-acb4e4769c29",
   "metadata": {},
   "outputs": [
    {
     "name": "stdout",
     "output_type": "stream",
     "text": [
      "Epoch 1/20\n",
      "\u001b[1m165/165\u001b[0m \u001b[32m━━━━━━━━━━━━━━━━━━━━\u001b[0m\u001b[37m\u001b[0m \u001b[1m16s\u001b[0m 62ms/step - accuracy: 0.6237 - f1_score: 0.6085 - loss: 0.8018 - val_accuracy: 0.6467 - val_f1_score: 0.6351 - val_loss: 0.7662\n",
      "Epoch 2/20\n",
      "\u001b[1m165/165\u001b[0m \u001b[32m━━━━━━━━━━━━━━━━━━━━\u001b[0m\u001b[37m\u001b[0m \u001b[1m17s\u001b[0m 65ms/step - accuracy: 0.6287 - f1_score: 0.6213 - loss: 0.7962 - val_accuracy: 0.6487 - val_f1_score: 0.6364 - val_loss: 0.7631\n",
      "Epoch 3/20\n",
      "\u001b[1m165/165\u001b[0m \u001b[32m━━━━━━━━━━━━━━━━━━━━\u001b[0m\u001b[37m\u001b[0m \u001b[1m18s\u001b[0m 63ms/step - accuracy: 0.6421 - f1_score: 0.6312 - loss: 0.7853 - val_accuracy: 0.6520 - val_f1_score: 0.6383 - val_loss: 0.7594\n",
      "Epoch 4/20\n",
      "\u001b[1m165/165\u001b[0m \u001b[32m━━━━━━━━━━━━━━━━━━━━\u001b[0m\u001b[37m\u001b[0m \u001b[1m18s\u001b[0m 65ms/step - accuracy: 0.6495 - f1_score: 0.6400 - loss: 0.7597 - val_accuracy: 0.6467 - val_f1_score: 0.6358 - val_loss: 0.7568\n",
      "Epoch 5/20\n",
      "\u001b[1m165/165\u001b[0m \u001b[32m━━━━━━━━━━━━━━━━━━━━\u001b[0m\u001b[37m\u001b[0m \u001b[1m18s\u001b[0m 65ms/step - accuracy: 0.6470 - f1_score: 0.6371 - loss: 0.7702 - val_accuracy: 0.6420 - val_f1_score: 0.6272 - val_loss: 0.7472\n",
      "Epoch 6/20\n",
      "\u001b[1m165/165\u001b[0m \u001b[32m━━━━━━━━━━━━━━━━━━━━\u001b[0m\u001b[37m\u001b[0m \u001b[1m18s\u001b[0m 66ms/step - accuracy: 0.6625 - f1_score: 0.6546 - loss: 0.7351 - val_accuracy: 0.6413 - val_f1_score: 0.6348 - val_loss: 0.7465\n",
      "Epoch 7/20\n",
      "\u001b[1m165/165\u001b[0m \u001b[32m━━━━━━━━━━━━━━━━━━━━\u001b[0m\u001b[37m\u001b[0m \u001b[1m19s\u001b[0m 68ms/step - accuracy: 0.6742 - f1_score: 0.6670 - loss: 0.7253 - val_accuracy: 0.6540 - val_f1_score: 0.6451 - val_loss: 0.7465\n",
      "Epoch 8/20\n",
      "\u001b[1m165/165\u001b[0m \u001b[32m━━━━━━━━━━━━━━━━━━━━\u001b[0m\u001b[37m\u001b[0m \u001b[1m19s\u001b[0m 68ms/step - accuracy: 0.6720 - f1_score: 0.6660 - loss: 0.7315 - val_accuracy: 0.6553 - val_f1_score: 0.6501 - val_loss: 0.7451\n",
      "Epoch 9/20\n",
      "\u001b[1m165/165\u001b[0m \u001b[32m━━━━━━━━━━━━━━━━━━━━\u001b[0m\u001b[37m\u001b[0m \u001b[1m19s\u001b[0m 65ms/step - accuracy: 0.6689 - f1_score: 0.6634 - loss: 0.7277 - val_accuracy: 0.6527 - val_f1_score: 0.6426 - val_loss: 0.7417\n",
      "Epoch 10/20\n",
      "\u001b[1m165/165\u001b[0m \u001b[32m━━━━━━━━━━━━━━━━━━━━\u001b[0m\u001b[37m\u001b[0m \u001b[1m19s\u001b[0m 66ms/step - accuracy: 0.6864 - f1_score: 0.6781 - loss: 0.7010 - val_accuracy: 0.6500 - val_f1_score: 0.6496 - val_loss: 0.7449\n",
      "Epoch 11/20\n",
      "\u001b[1m165/165\u001b[0m \u001b[32m━━━━━━━━━━━━━━━━━━━━\u001b[0m\u001b[37m\u001b[0m \u001b[1m19s\u001b[0m 68ms/step - accuracy: 0.6880 - f1_score: 0.6831 - loss: 0.7072 - val_accuracy: 0.6553 - val_f1_score: 0.6549 - val_loss: 0.7423\n",
      "Epoch 12/20\n",
      "\u001b[1m165/165\u001b[0m \u001b[32m━━━━━━━━━━━━━━━━━━━━\u001b[0m\u001b[37m\u001b[0m \u001b[1m19s\u001b[0m 68ms/step - accuracy: 0.6912 - f1_score: 0.6876 - loss: 0.6923 - val_accuracy: 0.6553 - val_f1_score: 0.6523 - val_loss: 0.7389\n",
      "Epoch 13/20\n",
      "\u001b[1m165/165\u001b[0m \u001b[32m━━━━━━━━━━━━━━━━━━━━\u001b[0m\u001b[37m\u001b[0m \u001b[1m19s\u001b[0m 68ms/step - accuracy: 0.7024 - f1_score: 0.6987 - loss: 0.6793 - val_accuracy: 0.6580 - val_f1_score: 0.6566 - val_loss: 0.7410\n",
      "Epoch 14/20\n",
      "\u001b[1m165/165\u001b[0m \u001b[32m━━━━━━━━━━━━━━━━━━━━\u001b[0m\u001b[37m\u001b[0m \u001b[1m19s\u001b[0m 68ms/step - accuracy: 0.7032 - f1_score: 0.6985 - loss: 0.6564 - val_accuracy: 0.6527 - val_f1_score: 0.6532 - val_loss: 0.7405\n",
      "Epoch 15/20\n",
      "\u001b[1m165/165\u001b[0m \u001b[32m━━━━━━━━━━━━━━━━━━━━\u001b[0m\u001b[37m\u001b[0m \u001b[1m19s\u001b[0m 69ms/step - accuracy: 0.6992 - f1_score: 0.6971 - loss: 0.6730 - val_accuracy: 0.6480 - val_f1_score: 0.6496 - val_loss: 0.7384\n",
      "Epoch 16/20\n",
      "\u001b[1m165/165\u001b[0m \u001b[32m━━━━━━━━━━━━━━━━━━━━\u001b[0m\u001b[37m\u001b[0m \u001b[1m19s\u001b[0m 69ms/step - accuracy: 0.7013 - f1_score: 0.6988 - loss: 0.6724 - val_accuracy: 0.6587 - val_f1_score: 0.6588 - val_loss: 0.7365\n",
      "Epoch 17/20\n",
      "\u001b[1m165/165\u001b[0m \u001b[32m━━━━━━━━━━━━━━━━━━━━\u001b[0m\u001b[37m\u001b[0m \u001b[1m20s\u001b[0m 70ms/step - accuracy: 0.7159 - f1_score: 0.7134 - loss: 0.6590 - val_accuracy: 0.6487 - val_f1_score: 0.6522 - val_loss: 0.7392\n",
      "Epoch 18/20\n",
      "\u001b[1m165/165\u001b[0m \u001b[32m━━━━━━━━━━━━━━━━━━━━\u001b[0m\u001b[37m\u001b[0m \u001b[1m19s\u001b[0m 67ms/step - accuracy: 0.7149 - f1_score: 0.7127 - loss: 0.6473 - val_accuracy: 0.6567 - val_f1_score: 0.6591 - val_loss: 0.7392\n",
      "Epoch 19/20\n",
      "\u001b[1m165/165\u001b[0m \u001b[32m━━━━━━━━━━━━━━━━━━━━\u001b[0m\u001b[37m\u001b[0m \u001b[1m19s\u001b[0m 68ms/step - accuracy: 0.7227 - f1_score: 0.7203 - loss: 0.6402 - val_accuracy: 0.6447 - val_f1_score: 0.6508 - val_loss: 0.7434\n",
      "Epoch 20/20\n",
      "\u001b[1m165/165\u001b[0m \u001b[32m━━━━━━━━━━━━━━━━━━━━\u001b[0m\u001b[37m\u001b[0m \u001b[1m19s\u001b[0m 68ms/step - accuracy: 0.7195 - f1_score: 0.7178 - loss: 0.6398 - val_accuracy: 0.6493 - val_f1_score: 0.6555 - val_loss: 0.7450\n"
     ]
    }
   ],
   "source": [
    "checkpoint_filepath = f\"models/checkpoint_{NAME}.weights.h5\"\n",
    "\n",
    "log_dir = f\"logs/fit-{NAME}/{datetime.datetime.now().strftime(\"%Y-%m-%d %H-%M-%S\")}\"\n",
    "\n",
    "epochs = 20\n",
    "history = model.fit(\n",
    "    train_ds_batch,\n",
    "    validation_data=valid_ds_batch,\n",
    "    epochs=epochs,\n",
    "    callbacks = [\n",
    "        keras.callbacks.ModelCheckpoint(\n",
    "            filepath=checkpoint_filepath,\n",
    "            monitor='val_accuracy',\n",
    "            mode='max',\n",
    "            save_weights_only=True,\n",
    "            save_best_only=True\n",
    "        ),\n",
    "        tf.keras.callbacks.TensorBoard(log_dir=log_dir, histogram_freq=1)\n",
    "    ]\n",
    ")"
   ]
  },
  {
   "cell_type": "code",
   "execution_count": 17,
   "id": "e2981913-5466-4ce4-9330-46bd5cb11604",
   "metadata": {},
   "outputs": [
    {
     "data": {
      "image/png": "[encoded data removed]",
      "text/plain": [
       "<Figure size 640x480 with 1 Axes>"
      ]
     },
     "metadata": {},
     "output_type": "display_data"
    }
   ],
   "source": [
    "data.plot(history)"
   ]
  },
  {
   "cell_type": "code",
   "execution_count": 19,
   "id": "76545dcb-b9ad-4b34-a9e7-12c05699b057",
   "metadata": {},
   "outputs": [],
   "source": [
    "model.load_weights(checkpoint_filepath)"
   ]
  },
  {
   "cell_type": "code",
   "execution_count": 20,
   "id": "56f14592",
   "metadata": {},
   "outputs": [
    {
     "name": "stdout",
     "output_type": "stream",
     "text": [
      "\u001b[1m24/24\u001b[0m \u001b[32m━━━━━━━━━━━━━━━━━━━━\u001b[0m\u001b[37m\u001b[0m \u001b[1m1s\u001b[0m 34ms/step - accuracy: 0.6352 - f1_score: 0.6358 - loss: 0.7801\n"
     ]
    },
    {
     "data": {
      "text/plain": [
       "[0.7743784189224243, 0.6380000114440918, 0.6384186148643494]"
      ]
     },
     "execution_count": 20,
     "metadata": {},
     "output_type": "execute_result"
    }
   ],
   "source": [
    "model.evaluate(test_ds_batch)"
   ]
  },
  {
   "cell_type": "code",
   "execution_count": 23,
   "id": "ef3746c7-e1ad-4461-83ea-2f10ab1935bf",
   "metadata": {},
   "outputs": [
    {
     "data": {
      "text/html": [
       "<pre style=\"white-space:pre;overflow-x:auto;line-height:normal;font-family:Menlo,'DejaVu Sans Mono',consolas,'Courier New',monospace\"><span style=\"font-weight: bold\">Model: \"sequential_2\"</span>\n",
       "</pre>\n"
      ],
      "text/plain": [
       "\u001b[1mModel: \"sequential_2\"\u001b[0m\n"
      ]
     },
     "metadata": {},
     "output_type": "display_data"
    },
    {
     "data": {
      "text/html": [
       "<pre style=\"white-space:pre;overflow-x:auto;line-height:normal;font-family:Menlo,'DejaVu Sans Mono',consolas,'Courier New',monospace\">┏━━━━━━━━━━━━━━━━━━━━━━━━━━━━━━━━━┳━━━━━━━━━━━━━━━━━━━━━━━━┳━━━━━━━━━━━━━━━┓\n",
       "┃<span style=\"font-weight: bold\"> Layer (type)                    </span>┃<span style=\"font-weight: bold\"> Output Shape           </span>┃<span style=\"font-weight: bold\">       Param # </span>┃\n",
       "┡━━━━━━━━━━━━━━━━━━━━━━━━━━━━━━━━━╇━━━━━━━━━━━━━━━━━━━━━━━━╇━━━━━━━━━━━━━━━┩\n",
       "│ text_vectorization_2            │ ?                      │             <span style=\"color: #00af00; text-decoration-color: #00af00\">0</span> │\n",
       "│ (<span style=\"color: #0087ff; text-decoration-color: #0087ff\">TextVectorization</span>)             │                        │               │\n",
       "├─────────────────────────────────┼────────────────────────┼───────────────┤\n",
       "│ sequential (<span style=\"color: #0087ff; text-decoration-color: #0087ff\">Sequential</span>)         │ ?                      │     <span style=\"color: #00af00; text-decoration-color: #00af00\">1,284,355</span> │\n",
       "├─────────────────────────────────┼────────────────────────┼───────────────┤\n",
       "│ activation_1 (<span style=\"color: #0087ff; text-decoration-color: #0087ff\">Activation</span>)       │ ?                      │   <span style=\"color: #00af00; text-decoration-color: #00af00\">0</span> (unbuilt) │\n",
       "└─────────────────────────────────┴────────────────────────┴───────────────┘\n",
       "</pre>\n"
      ],
      "text/plain": [
       "┏━━━━━━━━━━━━━━━━━━━━━━━━━━━━━━━━━┳━━━━━━━━━━━━━━━━━━━━━━━━┳━━━━━━━━━━━━━━━┓\n",
       "┃\u001b[1m \u001b[0m\u001b[1mLayer (type)                   \u001b[0m\u001b[1m \u001b[0m┃\u001b[1m \u001b[0m\u001b[1mOutput Shape          \u001b[0m\u001b[1m \u001b[0m┃\u001b[1m \u001b[0m\u001b[1m      Param #\u001b[0m\u001b[1m \u001b[0m┃\n",
       "┡━━━━━━━━━━━━━━━━━━━━━━━━━━━━━━━━━╇━━━━━━━━━━━━━━━━━━━━━━━━╇━━━━━━━━━━━━━━━┩\n",
       "│ text_vectorization_2            │ ?                      │             \u001b[38;5;34m0\u001b[0m │\n",
       "│ (\u001b[38;5;33mTextVectorization\u001b[0m)             │                        │               │\n",
       "├─────────────────────────────────┼────────────────────────┼───────────────┤\n",
       "│ sequential (\u001b[38;5;33mSequential\u001b[0m)         │ ?                      │     \u001b[38;5;34m1,284,355\u001b[0m │\n",
       "├─────────────────────────────────┼────────────────────────┼───────────────┤\n",
       "│ activation_1 (\u001b[38;5;33mActivation\u001b[0m)       │ ?                      │   \u001b[38;5;34m0\u001b[0m (unbuilt) │\n",
       "└─────────────────────────────────┴────────────────────────┴───────────────┘\n"
      ]
     },
     "metadata": {},
     "output_type": "display_data"
    },
    {
     "data": {
      "text/html": [
       "<pre style=\"white-space:pre;overflow-x:auto;line-height:normal;font-family:Menlo,'DejaVu Sans Mono',consolas,'Courier New',monospace\"><span style=\"font-weight: bold\"> Total params: </span><span style=\"color: #00af00; text-decoration-color: #00af00\">1,284,355</span> (4.90 MB)\n",
       "</pre>\n"
      ],
      "text/plain": [
       "\u001b[1m Total params: \u001b[0m\u001b[38;5;34m1,284,355\u001b[0m (4.90 MB)\n"
      ]
     },
     "metadata": {},
     "output_type": "display_data"
    },
    {
     "data": {
      "text/html": [
       "<pre style=\"white-space:pre;overflow-x:auto;line-height:normal;font-family:Menlo,'DejaVu Sans Mono',consolas,'Courier New',monospace\"><span style=\"font-weight: bold\"> Trainable params: </span><span style=\"color: #00af00; text-decoration-color: #00af00\">1,284,355</span> (4.90 MB)\n",
       "</pre>\n"
      ],
      "text/plain": [
       "\u001b[1m Trainable params: \u001b[0m\u001b[38;5;34m1,284,355\u001b[0m (4.90 MB)\n"
      ]
     },
     "metadata": {},
     "output_type": "display_data"
    },
    {
     "data": {
      "text/html": [
       "<pre style=\"white-space:pre;overflow-x:auto;line-height:normal;font-family:Menlo,'DejaVu Sans Mono',consolas,'Courier New',monospace\"><span style=\"font-weight: bold\"> Non-trainable params: </span><span style=\"color: #00af00; text-decoration-color: #00af00\">0</span> (0.00 B)\n",
       "</pre>\n"
      ],
      "text/plain": [
       "\u001b[1m Non-trainable params: \u001b[0m\u001b[38;5;34m0\u001b[0m (0.00 B)\n"
      ]
     },
     "metadata": {},
     "output_type": "display_data"
    }
   ],
   "source": [
    "export_model = tf.keras.Sequential([\n",
    "  vectorize_layer,\n",
    "  model,\n",
    "  tf.keras.layers.Activation('softmax')\n",
    "])\n",
    "\n",
    "export_model.compile(\n",
    "    loss=losses.CategoricalCrossentropy(from_logits=False), optimizer=\"rmsprop\", metrics=['accuracy', 'F1Score']\n",
    ")\n",
    "\n",
    "export_model.summary()"
   ]
  },
  {
   "cell_type": "code",
   "execution_count": 25,
   "id": "c30980ca-284c-40f2-b1c2-5e18ef1272fd",
   "metadata": {},
   "outputs": [],
   "source": [
    "raw_tab_train_ds, raw_tab_valid_ds, raw_tab_test_ds = data.load('tabiturient')"
   ]
  },
  {
   "cell_type": "markdown",
   "id": "35e15061-5346-4a81-a41c-61d64850bad1",
   "metadata": {},
   "source": [
    "Проверяем на данных tabiturient"
   ]
  },
  {
   "cell_type": "code",
   "execution_count": 26,
   "id": "a488ab4c-50ea-405a-afa7-6f786370ef6d",
   "metadata": {},
   "outputs": [],
   "source": [
    "tab_train_ds = data.vectorize(raw_tab_train_ds, vectorize_layer)\n",
    "tab_valid_ds = data.vectorize(raw_tab_valid_ds, vectorize_layer)\n",
    "tab_test_ds = data.vectorize(raw_tab_test_ds, vectorize_layer)"
   ]
  },
  {
   "cell_type": "code",
   "execution_count": 27,
   "id": "081c3183-9c6f-4d6e-b5ec-9c4963fa664b",
   "metadata": {},
   "outputs": [
    {
     "name": "stdout",
     "output_type": "stream",
     "text": [
      "\u001b[1m23/23\u001b[0m \u001b[32m━━━━━━━━━━━━━━━━━━━━\u001b[0m\u001b[37m\u001b[0m \u001b[1m0s\u001b[0m 10ms/step - accuracy: 0.4481 - f1_score: 0.3731 - loss: 1.1717\n"
     ]
    },
    {
     "data": {
      "text/plain": [
       "[1.1453896760940552, 0.46388888359069824, 0.39204415678977966]"
      ]
     },
     "execution_count": 27,
     "metadata": {},
     "output_type": "execute_result"
    }
   ],
   "source": [
    "model.evaluate(\n",
    "    tab_test_ds.batch(16)\n",
    ")"
   ]
  },
  {
   "cell_type": "code",
   "execution_count": 28,
   "id": "004f5cdf-e706-4d51-a80d-42e2dd81a204",
   "metadata": {},
   "outputs": [],
   "source": [
    "model.save(f'models/model-{NAME}.keras')"
   ]
  },
  {
   "cell_type": "code",
   "execution_count": 29,
   "id": "3c474d15-65d0-4ff3-858e-f359f781b31a",
   "metadata": {},
   "outputs": [],
   "source": [
    "model.compile(loss=losses.CategoricalCrossentropy(from_logits=True),\n",
    "              optimizer=tf.keras.optimizers.Adam(1e-5),\n",
    "              metrics=['accuracy', tf.keras.metrics.F1Score(average='macro')])"
   ]
  },
  {
   "cell_type": "code",
   "execution_count": 30,
   "id": "39efa1e4-c069-4d8e-a153-e4130cd435dd",
   "metadata": {},
   "outputs": [
    {
     "name": "stdout",
     "output_type": "stream",
     "text": [
      "Epoch 1/10\n",
      "\u001b[1m180/180\u001b[0m \u001b[32m━━━━━━━━━━━━━━━━━━━━\u001b[0m\u001b[37m\u001b[0m \u001b[1m6s\u001b[0m 28ms/step - accuracy: 0.4274 - f1_score: 0.3905 - loss: 1.3002 - val_accuracy: 0.4401 - val_f1_score: 0.3673 - val_loss: 1.0943\n",
      "Epoch 2/10\n",
      "\u001b[1m180/180\u001b[0m \u001b[32m━━━━━━━━━━━━━━━━━━━━\u001b[0m\u001b[37m\u001b[0m \u001b[1m5s\u001b[0m 28ms/step - accuracy: 0.4598 - f1_score: 0.4141 - loss: 1.2242 - val_accuracy: 0.4485 - val_f1_score: 0.3788 - val_loss: 1.0839\n",
      "Epoch 3/10\n",
      "\u001b[1m180/180\u001b[0m \u001b[32m━━━━━━━━━━━━━━━━━━━━\u001b[0m\u001b[37m\u001b[0m \u001b[1m5s\u001b[0m 28ms/step - accuracy: 0.4277 - f1_score: 0.3929 - loss: 1.2680 - val_accuracy: 0.4624 - val_f1_score: 0.3903 - val_loss: 1.0743\n",
      "Epoch 4/10\n",
      "\u001b[1m180/180\u001b[0m \u001b[32m━━━━━━━━━━━━━━━━━━━━\u001b[0m\u001b[37m\u001b[0m \u001b[1m5s\u001b[0m 30ms/step - accuracy: 0.4528 - f1_score: 0.4252 - loss: 1.2322 - val_accuracy: 0.4624 - val_f1_score: 0.3900 - val_loss: 1.0654\n",
      "Epoch 5/10\n",
      "\u001b[1m180/180\u001b[0m \u001b[32m━━━━━━━━━━━━━━━━━━━━\u001b[0m\u001b[37m\u001b[0m \u001b[1m5s\u001b[0m 30ms/step - accuracy: 0.4525 - f1_score: 0.4151 - loss: 1.2080 - val_accuracy: 0.4652 - val_f1_score: 0.3901 - val_loss: 1.0569\n",
      "Epoch 6/10\n",
      "\u001b[1m180/180\u001b[0m \u001b[32m━━━━━━━━━━━━━━━━━━━━\u001b[0m\u001b[37m\u001b[0m \u001b[1m5s\u001b[0m 29ms/step - accuracy: 0.4552 - f1_score: 0.4264 - loss: 1.2439 - val_accuracy: 0.4763 - val_f1_score: 0.4031 - val_loss: 1.0487\n",
      "Epoch 7/10\n",
      "\u001b[1m180/180\u001b[0m \u001b[32m━━━━━━━━━━━━━━━━━━━━\u001b[0m\u001b[37m\u001b[0m \u001b[1m6s\u001b[0m 32ms/step - accuracy: 0.4650 - f1_score: 0.4292 - loss: 1.2272 - val_accuracy: 0.4819 - val_f1_score: 0.4095 - val_loss: 1.0412\n",
      "Epoch 8/10\n",
      "\u001b[1m180/180\u001b[0m \u001b[32m━━━━━━━━━━━━━━━━━━━━\u001b[0m\u001b[37m\u001b[0m \u001b[1m5s\u001b[0m 30ms/step - accuracy: 0.4696 - f1_score: 0.4361 - loss: 1.1884 - val_accuracy: 0.4819 - val_f1_score: 0.4125 - val_loss: 1.0340\n",
      "Epoch 9/10\n",
      "\u001b[1m180/180\u001b[0m \u001b[32m━━━━━━━━━━━━━━━━━━━━\u001b[0m\u001b[37m\u001b[0m \u001b[1m6s\u001b[0m 31ms/step - accuracy: 0.4593 - f1_score: 0.4277 - loss: 1.1823 - val_accuracy: 0.4847 - val_f1_score: 0.4148 - val_loss: 1.0272\n",
      "Epoch 10/10\n",
      "\u001b[1m180/180\u001b[0m \u001b[32m━━━━━━━━━━━━━━━━━━━━\u001b[0m\u001b[37m\u001b[0m \u001b[1m6s\u001b[0m 31ms/step - accuracy: 0.4531 - f1_score: 0.4088 - loss: 1.2104 - val_accuracy: 0.4847 - val_f1_score: 0.4148 - val_loss: 1.0207\n"
     ]
    }
   ],
   "source": [
    "checkpoint_filepath = f\"models/checkpoint-{NAME}-fine.weights.h5\"\n",
    "\n",
    "log_dir = f\"logs/fit-{NAME}-fine/{datetime.datetime.now().strftime('%Y-%m-%d %H-%M-%S')}\"\n",
    "\n",
    "epochs = 10\n",
    "history = model.fit(\n",
    "    tab_train_ds.batch(16),\n",
    "    validation_data=tab_valid_ds.batch(16),\n",
    "    epochs=epochs,\n",
    "    callbacks = [\n",
    "        keras.callbacks.ModelCheckpoint(\n",
    "            filepath=checkpoint_filepath,\n",
    "            monitor='val_accuracy',\n",
    "            mode='max',\n",
    "            save_weights_only=True,\n",
    "            save_best_only=True\n",
    "        ),\n",
    "        # tf.keras.callbacks.TensorBoard(log_dir=log_dir, histogram_freq=1)\n",
    "    ]\n",
    ")"
   ]
  },
  {
   "cell_type": "code",
   "execution_count": 31,
   "id": "8aae8c5c-5bf2-4e3d-a867-a4b30aaab3af",
   "metadata": {},
   "outputs": [
    {
     "data": {
      "image/png": "[encoded data removed]",
      "text/plain": [
       "<Figure size 640x480 with 1 Axes>"
      ]
     },
     "metadata": {},
     "output_type": "display_data"
    }
   ],
   "source": [
    "data.plot(history)"
   ]
  },
  {
   "cell_type": "code",
   "execution_count": 32,
   "id": "6d6502e2-2610-40e1-9466-471e71232a66",
   "metadata": {},
   "outputs": [],
   "source": [
    "model.load_weights(checkpoint_filepath)"
   ]
  },
  {
   "cell_type": "code",
   "execution_count": 33,
   "id": "5e2529d3-4b5d-4c67-97d5-25a20d85bc1f",
   "metadata": {},
   "outputs": [
    {
     "name": "stdout",
     "output_type": "stream",
     "text": [
      "\u001b[1m23/23\u001b[0m \u001b[32m━━━━━━━━━━━━━━━━━━━━\u001b[0m\u001b[37m\u001b[0m \u001b[1m0s\u001b[0m 11ms/step - accuracy: 0.4756 - f1_score: 0.4049 - loss: 1.0898\n"
     ]
    },
    {
     "data": {
      "text/plain": [
       "[1.0701602697372437, 0.49444442987442017, 0.4202911853790283]"
      ]
     },
     "execution_count": 33,
     "metadata": {},
     "output_type": "execute_result"
    }
   ],
   "source": [
    "model.evaluate(\n",
    "    tab_test_ds.batch(16)\n",
    ")"
   ]
  },
  {
   "cell_type": "code",
   "execution_count": null,
   "id": "1eb57539-7969-49c6-9442-d6a6ff8860c7",
   "metadata": {},
   "outputs": [],
   "source": []
  }
 ],
 "metadata": {
  "kernelspec": {
   "display_name": "Python 3 (ipykernel)",
   "language": "python",
   "name": "python3"
  },
  "language_info": {
   "codemirror_mode": {
    "name": "ipython",
    "version": 3
   },
   "file_extension": ".py",
   "mimetype": "text/x-python",
   "name": "python",
   "nbconvert_exporter": "python",
   "pygments_lexer": "ipython3",
   "version": "3.12.3"
  }
 },
 "nbformat": 4,
 "nbformat_minor": 5
}
