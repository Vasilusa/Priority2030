{
 "cells": [
  {
   "cell_type": "code",
   "execution_count": 63,
   "id": "f33ce7cf-d807-4aa8-9712-f6b8a7ab9d9d",
   "metadata": {},
   "outputs": [],
   "source": [
    "import pandas as pd\n",
    "import numpy as np\n",
    "import mydata as md\n",
    "import tensorflow as tf\n",
    "import keras"
   ]
  },
  {
   "cell_type": "code",
   "execution_count": 87,
   "id": "5ec70e38-ce3f-4c77-ac77-7939f69adc5d",
   "metadata": {},
   "outputs": [],
   "source": [
    "DATASET_DIR = '/home/alex/Data/datasets'\n",
    "\n",
    "data = md.Data('cache')\n",
    "\n",
    "all_data = pd.read_json(DATASET_DIR + \"/tabiturient/unique-reviews.jsonl\", lines=True)"
   ]
  },
  {
   "cell_type": "code",
   "execution_count": 88,
   "id": "977222ac-ccd3-48b1-abf2-d73725ff25f9",
   "metadata": {},
   "outputs": [
    {
     "data": {
      "text/plain": [
       "3595"
      ]
     },
     "execution_count": 88,
     "metadata": {},
     "output_type": "execute_result"
    }
   ],
   "source": [
    "len(all_data)"
   ]
  },
  {
   "cell_type": "code",
   "execution_count": 89,
   "id": "bae9134b-b2a3-470f-9ba7-d2d2ff8518f8",
   "metadata": {},
   "outputs": [],
   "source": [
    "all_raw_text_data = np.array(all_data['content'].map(data.lemmatize))\n",
    "#all_raw_text_data = np.array(all_data['content'])\n",
    "\n",
    "all_label_data = keras.utils.to_categorical(np.array(all_data['label']))"
   ]
  },
  {
   "cell_type": "code",
   "execution_count": 90,
   "id": "e91304ea-a12f-4648-ad24-bd02a4dc8eb1",
   "metadata": {},
   "outputs": [],
   "source": [
    "raw_all_ds = tf.data.Dataset.from_tensor_slices(\n",
    "    (all_raw_text_data, all_label_data)\n",
    ").shuffle(len(all_raw_text_data), reshuffle_each_iteration=False)"
   ]
  },
  {
   "cell_type": "code",
   "execution_count": 91,
   "id": "bebbc03e-ae92-4474-a4c8-15027997a321",
   "metadata": {},
   "outputs": [],
   "source": [
    "raw_train_ds, raw_other_ds = data.split(raw_all_ds, 0.8)\n",
    "raw_valid_ds, raw_test_ds = data.split(raw_other_ds, 0.5)"
   ]
  },
  {
   "cell_type": "code",
   "execution_count": 92,
   "id": "f5166b66-a42e-4730-b004-06d4d7a2c9d9",
   "metadata": {},
   "outputs": [],
   "source": [
    "data.save('tabiturient', raw_train_ds, raw_valid_ds, raw_test_ds)"
   ]
  }
 ],
 "metadata": {
  "kernelspec": {
   "display_name": "Python 3 (ipykernel)",
   "language": "python",
   "name": "python3"
  },
  "language_info": {
   "codemirror_mode": {
    "name": "ipython",
    "version": 3
   },
   "file_extension": ".py",
   "mimetype": "text/x-python",
   "name": "python",
   "nbconvert_exporter": "python",
   "pygments_lexer": "ipython3",
   "version": "3.12.3"
  }
 },
 "nbformat": 4,
 "nbformat_minor": 5
}
