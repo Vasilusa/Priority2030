{
 "cells": [
  {
   "cell_type": "code",
   "execution_count": 11,
   "id": "3088083e-398d-42f6-bfb0-02ed1949eb77",
   "metadata": {},
   "outputs": [],
   "source": [
    "import pandas as pd\n",
    "import numpy as np\n",
    "import mydata as md\n",
    "import tensorflow as tf\n",
    "import keras"
   ]
  },
  {
   "cell_type": "code",
   "execution_count": 12,
   "id": "77e6d62e-5a48-4509-a554-b1777dbf3e66",
   "metadata": {},
   "outputs": [],
   "source": [
    "DATASET_DIR = '/home/alex/Data/datasets'\n",
    "\n",
    "data = md.Data('cache')\n",
    "\n",
    "url = DATASET_DIR + '/RuSentiment/'"
   ]
  },
  {
   "cell_type": "code",
   "execution_count": 13,
   "id": "f92f049b-94da-4ead-98ca-e572d9ebbbf7",
   "metadata": {},
   "outputs": [],
   "source": [
    "SPECIFIC_LABELS = {\n",
    "    0:'Neutral', \n",
    "    2:'Bad', \n",
    "    1:'Good',\n",
    "}\n",
    "\n",
    "LABELS = {\n",
    "    'Bad':0, \n",
    "    'Neutral':1, \n",
    "    'Good':2,\n",
    "}\n",
    "\n",
    "\n",
    "def adjust_labels(specific_label):\n",
    "    return LABELS[SPECIFIC_LABELS[specific_label]]"
   ]
  },
  {
   "cell_type": "code",
   "execution_count": 14,
   "id": "73793e34-e0f9-44d1-8533-f1564765e074",
   "metadata": {},
   "outputs": [],
   "source": [
    "train_data = pd.read_csv(url + \"train.csv\")\n",
    "valid_data = pd.read_csv(url + \"valid.csv\")"
   ]
  },
  {
   "cell_type": "code",
   "execution_count": 15,
   "id": "2290066f-0e14-4c5e-874d-b33a48c7012a",
   "metadata": {},
   "outputs": [],
   "source": [
    "train_label_data = keras.utils.to_categorical(np.array(train_data['sentiment'].map(adjust_labels)))\n",
    "valid_label_data = keras.utils.to_categorical(np.array(valid_data['sentiment'].map(adjust_labels)))"
   ]
  },
  {
   "cell_type": "code",
   "execution_count": 16,
   "id": "8c35ac0c-31cd-4e39-967d-60a59f2b50a1",
   "metadata": {},
   "outputs": [],
   "source": [
    "train_raw_text_data = np.array(train_data['text'].map(data.lemmatize))\n",
    "valid_raw_text_data = np.array(valid_data['text'].map(data.lemmatize))"
   ]
  },
  {
   "cell_type": "code",
   "execution_count": 18,
   "id": "e3c93915-02cb-4a9c-b51b-a7e96fecb3fa",
   "metadata": {},
   "outputs": [],
   "source": [
    "train_ds=tf.data.Dataset.from_tensor_slices((train_raw_text_data, train_label_data))\n",
    "valid_ds=tf.data.Dataset.from_tensor_slices((valid_raw_text_data, valid_label_data))"
   ]
  },
  {
   "cell_type": "code",
   "execution_count": 19,
   "id": "637fb817-6ab8-404b-9b4a-d308296b8473",
   "metadata": {},
   "outputs": [],
   "source": [
    "valid_ds, test_ds = md.Data.split(valid_ds.shuffle(len(valid_ds)), 0.5)"
   ]
  },
  {
   "cell_type": "code",
   "execution_count": 21,
   "id": "9d9f7311-ec34-43d0-8400-d014c98b2daf",
   "metadata": {},
   "outputs": [],
   "source": [
    "data.save('ru-sentiment', train_ds, valid_ds, test_ds)"
   ]
  },
  {
   "cell_type": "code",
   "execution_count": null,
   "id": "3a1b7117-3f67-472c-923e-e6c74a782612",
   "metadata": {},
   "outputs": [],
   "source": []
  }
 ],
 "metadata": {
  "kernelspec": {
   "display_name": "Python 3 (ipykernel)",
   "language": "python",
   "name": "python3"
  },
  "language_info": {
   "codemirror_mode": {
    "name": "ipython",
    "version": 3
   },
   "file_extension": ".py",
   "mimetype": "text/x-python",
   "name": "python",
   "nbconvert_exporter": "python",
   "pygments_lexer": "ipython3",
   "version": "3.12.3"
  }
 },
 "nbformat": 4,
 "nbformat_minor": 5
}
