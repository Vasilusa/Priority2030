{
 "cells": [
  {
   "cell_type": "code",
   "execution_count": 2,
   "id": "06ebdefc-1cb2-4004-8813-5f328ac48931",
   "metadata": {},
   "outputs": [
    {
     "name": "stderr",
     "output_type": "stream",
     "text": [
      "2024-06-06 01:16:35.230173: W tensorflow/compiler/tf2tensorrt/utils/py_utils.cc:38] TF-TRT Warning: Could not find TensorRT\n"
     ]
    }
   ],
   "source": [
    "import pandas as pd\n",
    "import numpy as np\n",
    "import mydata as md\n",
    "import tensorflow as tf"
   ]
  },
  {
   "cell_type": "code",
   "execution_count": 7,
   "id": "a8eeb60c-5ac2-4ea5-9409-a6164b06500f",
   "metadata": {},
   "outputs": [],
   "source": [
    "import keras"
   ]
  },
  {
   "cell_type": "code",
   "execution_count": 4,
   "id": "27896b49-b164-460c-9eab-d27feccdc961",
   "metadata": {},
   "outputs": [],
   "source": [
    "DATASET_DIR = '/home/alex/Data/datasets'\n",
    "\n",
    "data = md.Data('cache')\n",
    "url = DATASET_DIR + '/RuTweetCorp/'\n",
    "\n",
    "pos_df = pd.read_csv(url + \"positive.csv\")\n",
    "neg_df = pd.read_csv(url + \"negative.csv\")\n",
    "\n",
    "pos_labels = np.empty(len(pos_df), dtype=int)\n",
    "neg_labels = np.empty(len(neg_df), dtype=int)\n",
    "\n",
    "pos_labels.fill(1)\n",
    "neg_labels.fill(0)\n",
    "\n",
    "pos_texts = np.array(pos_df['ttext'])#.map(data.lemmatize))\n",
    "neg_texts = np.array(neg_df['ttext'])#.map(data.lemmatize))\n",
    "\n",
    "all_texts = np.concatenate((pos_texts, neg_texts), axis=0)\n",
    "all_labels = np.concatenate((pos_labels, neg_labels), axis=0)\n",
    "\n",
    "ds = tf.data.Dataset.from_tensor_slices((all_texts, all_labels)).shuffle(len(all_texts))\n",
    "\n",
    "train_ds, other_ds = md.Data.split(ds, 0.8)\n",
    "validation_ds, test_ds = md.Data.split(other_ds, 0.5)"
   ]
  },
  {
   "cell_type": "code",
   "execution_count": 10,
   "id": "25d4a62d-2f62-4ed3-bd2b-9b166c82678e",
   "metadata": {},
   "outputs": [],
   "source": [
    "ds2 = ds.map(lambda x,y: (x, keras.utils.to_categorical(y, num_classes=2)))"
   ]
  },
  {
   "cell_type": "code",
   "execution_count": 3,
   "id": "6def961c-17c7-44cb-9903-39d6e4fb78bb",
   "metadata": {},
   "outputs": [],
   "source": [
    "data.save('twitter', train_ds, validation_ds, test_ds)"
   ]
  }
 ],
 "metadata": {
  "kernelspec": {
   "display_name": "Python 3 (ipykernel)",
   "language": "python",
   "name": "python3"
  },
  "language_info": {
   "codemirror_mode": {
    "name": "ipython",
    "version": 3
   },
   "file_extension": ".py",
   "mimetype": "text/x-python",
   "name": "python",
   "nbconvert_exporter": "python",
   "pygments_lexer": "ipython3",
   "version": "3.12.3"
  }
 },
 "nbformat": 4,
 "nbformat_minor": 5
}
