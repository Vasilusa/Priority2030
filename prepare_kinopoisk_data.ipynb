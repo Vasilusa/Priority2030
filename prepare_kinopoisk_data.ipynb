{
 "cells": [
  {
   "cell_type": "code",
   "execution_count": 1,
   "id": "150ce21e-3561-426e-b0f6-51ad9dfd6729",
   "metadata": {},
   "outputs": [
    {
     "name": "stderr",
     "output_type": "stream",
     "text": [
      "2024-06-05 14:38:56.543829: W tensorflow/compiler/tf2tensorrt/utils/py_utils.cc:38] TF-TRT Warning: Could not find TensorRT\n"
     ]
    }
   ],
   "source": [
    "import pandas as pd\n",
    "import numpy as np\n",
    "import mydata as md\n",
    "import tensorflow as tf\n",
    "import keras"
   ]
  },
  {
   "cell_type": "code",
   "execution_count": 2,
   "id": "bbf41aee-c062-4abb-8386-2f3ad2838b4c",
   "metadata": {},
   "outputs": [],
   "source": [
    "DATASET_DIR = '/home/alex/Data/datasets'\n",
    "\n",
    "data = md.Data('cache')\n",
    "\n",
    "url = DATASET_DIR + '/kinopoisk-sentiment-classification/'"
   ]
  },
  {
   "cell_type": "code",
   "execution_count": 3,
   "id": "f1f53faf-5207-4a26-a363-77e61a12a602",
   "metadata": {},
   "outputs": [],
   "source": [
    "train_data = pd.read_json(url + \"train.jsonl\", lines=True)\n",
    "valid_data = pd.read_json(url + \"validation.jsonl\", lines=True)\n",
    "test_data = pd.read_json(url + \"test.jsonl\", lines=True)"
   ]
  },
  {
   "cell_type": "code",
   "execution_count": 7,
   "id": "d103e1a9-4a71-4251-8a25-eceb47ca543b",
   "metadata": {},
   "outputs": [],
   "source": [
    "train_raw_text_data = np.array(train_data['text'].map(data.lemmatize))\n",
    "valid_raw_text_data = np.array(valid_data['text'].map(data.lemmatize))\n",
    "test_raw_text_data = np.array(test_data['text'].map(data.lemmatize))"
   ]
  },
  {
   "cell_type": "code",
   "execution_count": 8,
   "id": "bb22bf6c-fafd-446c-8b7a-c1f4f50250e2",
   "metadata": {},
   "outputs": [],
   "source": [
    "train_label_data = keras.utils.to_categorical(np.array(train_data['label']))\n",
    "valid_label_data = keras.utils.to_categorical(np.array(valid_data['label']))\n",
    "test_label_data = keras.utils.to_categorical(np.array(test_data['label']))"
   ]
  },
  {
   "cell_type": "code",
   "execution_count": 10,
   "id": "5b4b74f6-f0cd-4047-911c-0855f7f37ee3",
   "metadata": {},
   "outputs": [],
   "source": [
    "raw_train_ds=tf.data.Dataset.from_tensor_slices((train_raw_text_data, train_label_data))\n",
    "raw_test_ds=tf.data.Dataset.from_tensor_slices((test_raw_text_data, test_label_data))\n",
    "raw_valid_ds=tf.data.Dataset.from_tensor_slices((valid_raw_text_data, valid_label_data))"
   ]
  },
  {
   "cell_type": "code",
   "execution_count": 11,
   "id": "72c1071b-2468-47e9-99b5-07821a6be645",
   "metadata": {},
   "outputs": [],
   "source": [
    "data.save('kinopoisk', raw_train_ds, raw_valid_ds, raw_test_ds)"
   ]
  },
  {
   "cell_type": "code",
   "execution_count": null,
   "id": "eb60acd1-1553-40b0-bbb5-ae9b9260fb03",
   "metadata": {},
   "outputs": [],
   "source": []
  }
 ],
 "metadata": {
  "kernelspec": {
   "display_name": "Python 3 (ipykernel)",
   "language": "python",
   "name": "python3"
  },
  "language_info": {
   "codemirror_mode": {
    "name": "ipython",
    "version": 3
   },
   "file_extension": ".py",
   "mimetype": "text/x-python",
   "name": "python",
   "nbconvert_exporter": "python",
   "pygments_lexer": "ipython3",
   "version": "3.12.3"
  }
 },
 "nbformat": 4,
 "nbformat_minor": 5
}
