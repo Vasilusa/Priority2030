{
  "nbformat": 4,
  "nbformat_minor": 0,
  "metadata": {
    "colab": {
      "provenance": [],
      "gpuType": "T4"
    },
    "kernelspec": {
      "name": "python3",
      "display_name": "Python 3"
    },
    "language_info": {
      "name": "python"
    },
    "accelerator": "GPU"
  },
  "cells": [
    {
      "cell_type": "code",
      "execution_count": 1,
      "metadata": {
        "id": "Tw4-oItLen5R"
      },
      "outputs": [],
      "source": [
        "NAME = 'conv-rusentiment'"
      ]
    },
    {
      "cell_type": "code",
      "source": [
        "from google.colab import drive\n",
        "drive.mount('/content/drive')"
      ],
      "metadata": {
        "id": "ykNFy_a7e0Kc",
        "colab": {
          "base_uri": "https://localhost:8080/"
        },
        "outputId": "13c27511-cabc-423b-d0be-7866b8a93c9d"
      },
      "execution_count": 2,
      "outputs": [
        {
          "output_type": "stream",
          "name": "stdout",
          "text": [
            "Mounted at /content/drive\n"
          ]
        }
      ]
    },
    {
      "cell_type": "code",
      "source": [
        "import sys\n",
        "sys.path.append(\"drive/MyDrive/Colab Notebooks\")"
      ],
      "metadata": {
        "id": "CBXwQ0SdffHZ"
      },
      "execution_count": 3,
      "outputs": []
    },
    {
      "cell_type": "code",
      "source": [
        "import numpy as np\n",
        "import pandas as pd\n",
        "import matplotlib.pyplot as plt\n",
        "import os\n",
        "import re\n",
        "import shutil\n",
        "import string\n",
        "import tensorflow as tf\n",
        "import keras\n",
        "\n",
        "from tensorflow.keras import layers\n",
        "from tensorflow.keras import losses\n",
        "\n",
        "import matplotlib.pyplot as plt\n",
        "\n",
        "import datetime\n",
        "\n",
        "import mydata as md\n",
        "\n",
        "data = md.Data('drive/MyDrive/cache')\n"
      ],
      "metadata": {
        "id": "9FGLrFmAe_rj",
        "colab": {
          "base_uri": "https://localhost:8080/"
        },
        "outputId": "a4178d68-ccdb-48f6-e776-f1dedfd723fe"
      },
      "execution_count": 4,
      "outputs": [
        {
          "output_type": "stream",
          "name": "stderr",
          "text": [
            "Installing mystem to /root/.local/bin/mystem from http://download.cdn.yandex.net/mystem/mystem-3.1-linux-64bit.tar.gz\n"
          ]
        }
      ]
    },
    {
      "cell_type": "code",
      "source": [
        "raw_train_ds, raw_valid_ds, raw_test_ds = data.load('ru-sentiment')"
      ],
      "metadata": {
        "id": "zVhpjnoif2X4"
      },
      "execution_count": 5,
      "outputs": []
    },
    {
      "cell_type": "code",
      "source": [
        "max_features = 20000\n",
        "sequence_length = 1000\n",
        "\n",
        "vectorize_layer = keras.layers.TextVectorization(\n",
        "    max_tokens=max_features,\n",
        "    output_mode='int',\n",
        "    output_sequence_length=sequence_length\n",
        ")"
      ],
      "metadata": {
        "id": "XB8dJd38gFup"
      },
      "execution_count": 6,
      "outputs": []
    },
    {
      "cell_type": "code",
      "source": [
        "vectorize_layer.adapt(raw_train_ds.map(lambda x,y: x))"
      ],
      "metadata": {
        "id": "K-zLBfV9gIip"
      },
      "execution_count": 7,
      "outputs": []
    },
    {
      "cell_type": "code",
      "source": [
        "train_ds = data.vectorize(raw_train_ds, vectorize_layer)\n",
        "valid_ds = data.vectorize(raw_valid_ds, vectorize_layer)\n",
        "test_ds = data.vectorize(raw_test_ds, vectorize_layer)\n"
      ],
      "metadata": {
        "id": "z_u602yEiEyc"
      },
      "execution_count": 8,
      "outputs": []
    },
    {
      "cell_type": "code",
      "source": [
        "train_ds_filtered = train_ds.filter(lambda x,y: tf.equal(len(x),1000))\n",
        "valid_ds_filtered = valid_ds.filter(lambda x,y: tf.equal(len(x),1000))\n",
        "test_ds_filtered = test_ds.filter(lambda x,y: tf.equal(len(x),1000))"
      ],
      "metadata": {
        "id": "jeIWcywduKZ1"
      },
      "execution_count": 9,
      "outputs": []
    },
    {
      "cell_type": "code",
      "source": [
        "#train_ds_batch=train_ds.shuffle(len(train_ds), reshuffle_each_iteration=False).batch(64)\n",
        "train_ds_batch=train_ds_filtered.batch(256)\n",
        "\n",
        "valid_ds_batch=valid_ds_filtered.batch(256)\n",
        "test_ds_batch=test_ds_filtered.batch(256)"
      ],
      "metadata": {
        "id": "Iz4MB2UHiMWz"
      },
      "execution_count": 10,
      "outputs": []
    },
    {
      "cell_type": "code",
      "source": [
        "embedding_dim=64\n",
        "\n",
        "embedding_layer = tf.keras.layers.Embedding(\n",
        "    input_dim=(max_features),\n",
        "    output_dim=embedding_dim,\n",
        "    mask_zero=False\n",
        ")\n",
        "\n",
        "model = tf.keras.Sequential([\n",
        "    keras.Input(shape=(None,), dtype=\"int64\"),\n",
        "    embedding_layer,\n",
        "    tf.keras.layers.Conv1D(128, 5, activation='relu', kernel_initializer='he_normal'),\n",
        "    tf.keras.layers.GlobalMaxPool1D(),\n",
        "    tf.keras.layers.Dropout(0.5),\n",
        "    tf.keras.layers.Dense(128, activation='relu', kernel_regularizer=None, kernel_initializer='he_normal'),\n",
        "    tf.keras.layers.Dropout(0.5),\n",
        "    tf.keras.layers.Dense(3, kernel_regularizer=None, kernel_initializer='he_normal')\n",
        "])\n",
        "model.summary()\n",
        "\n",
        "model.compile(loss=losses.CategoricalCrossentropy(from_logits=True),\n",
        "              optimizer='adam',\n",
        "              metrics=['accuracy', tf.keras.metrics.F1Score(average='macro')])"
      ],
      "metadata": {
        "colab": {
          "base_uri": "https://localhost:8080/"
        },
        "id": "uYO-0usxGa0R",
        "outputId": "4b2b314d-55f1-4cdb-833b-fc6d5b51d755"
      },
      "execution_count": 12,
      "outputs": [
        {
          "output_type": "stream",
          "name": "stdout",
          "text": [
            "Model: \"sequential_1\"\n",
            "_________________________________________________________________\n",
            " Layer (type)                Output Shape              Param #   \n",
            "=================================================================\n",
            " embedding_1 (Embedding)     (None, None, 64)          1280000   \n",
            "                                                                 \n",
            " conv1d_1 (Conv1D)           (None, None, 128)         41088     \n",
            "                                                                 \n",
            " global_max_pooling1d_1 (Gl  (None, 128)               0         \n",
            " obalMaxPooling1D)                                               \n",
            "                                                                 \n",
            " dropout_2 (Dropout)         (None, 128)               0         \n",
            "                                                                 \n",
            " dense_2 (Dense)             (None, 128)               16512     \n",
            "                                                                 \n",
            " dropout_3 (Dropout)         (None, 128)               0         \n",
            "                                                                 \n",
            " dense_3 (Dense)             (None, 3)                 387       \n",
            "                                                                 \n",
            "=================================================================\n",
            "Total params: 1337987 (5.10 MB)\n",
            "Trainable params: 1337987 (5.10 MB)\n",
            "Non-trainable params: 0 (0.00 Byte)\n",
            "_________________________________________________________________\n"
          ]
        }
      ]
    },
    {
      "cell_type": "code",
      "source": [
        "checkpoint_filepath = f\"models/checkpoint_{NAME}.weights.h5\"\n",
        "\n",
        "log_dir = f\"logs/fit-{NAME}/{datetime.datetime.now().strftime('%Y-%m-%d %H-%M-%S')}\"\n",
        "\n",
        "epochs = 10\n",
        "history = model.fit(\n",
        "    train_ds_batch,\n",
        "    validation_data=valid_ds_batch,\n",
        "    epochs=epochs,\n",
        "    callbacks = [\n",
        "        keras.callbacks.ModelCheckpoint(\n",
        "            filepath=checkpoint_filepath,\n",
        "            monitor='val_accuracy',\n",
        "            mode='max',\n",
        "            save_weights_only=True,\n",
        "            save_best_only=True\n",
        "        ),\n",
        "        tf.keras.callbacks.TensorBoard(log_dir=log_dir, histogram_freq=1)\n",
        "    ]\n",
        ")"
      ],
      "metadata": {
        "colab": {
          "base_uri": "https://localhost:8080/"
        },
        "id": "gInRJv05nCSe",
        "outputId": "da579833-034e-4e6a-89bf-4604fc0588bb"
      },
      "execution_count": 13,
      "outputs": [
        {
          "output_type": "stream",
          "name": "stdout",
          "text": [
            "Epoch 1/10\n",
            "742/742 [==============================] - 138s 180ms/step - loss: 0.7239 - accuracy: 0.6587 - f1_score: 0.6343 - val_loss: 0.5694 - val_accuracy: 0.7451 - val_f1_score: 0.7327\n",
            "Epoch 2/10\n",
            "742/742 [==============================] - 51s 69ms/step - loss: 0.5474 - accuracy: 0.7562 - f1_score: 0.7450 - val_loss: 0.5425 - val_accuracy: 0.7549 - val_f1_score: 0.7443\n",
            "Epoch 3/10\n",
            "742/742 [==============================] - 52s 70ms/step - loss: 0.4875 - accuracy: 0.7869 - f1_score: 0.7770 - val_loss: 0.5446 - val_accuracy: 0.7586 - val_f1_score: 0.7475\n",
            "Epoch 4/10\n",
            "742/742 [==============================] - 51s 69ms/step - loss: 0.4412 - accuracy: 0.8097 - f1_score: 0.8007 - val_loss: 0.5599 - val_accuracy: 0.7564 - val_f1_score: 0.7469\n",
            "Epoch 5/10\n",
            "742/742 [==============================] - 56s 75ms/step - loss: 0.4058 - accuracy: 0.8263 - f1_score: 0.8184 - val_loss: 0.5868 - val_accuracy: 0.7569 - val_f1_score: 0.7458\n",
            "Epoch 6/10\n",
            "742/742 [==============================] - 52s 70ms/step - loss: 0.3736 - accuracy: 0.8418 - f1_score: 0.8347 - val_loss: 0.6029 - val_accuracy: 0.7540 - val_f1_score: 0.7441\n",
            "Epoch 7/10\n",
            "742/742 [==============================] - 52s 69ms/step - loss: 0.3489 - accuracy: 0.8536 - f1_score: 0.8468 - val_loss: 0.6315 - val_accuracy: 0.7542 - val_f1_score: 0.7452\n",
            "Epoch 8/10\n",
            "742/742 [==============================] - 51s 68ms/step - loss: 0.3287 - accuracy: 0.8622 - f1_score: 0.8559 - val_loss: 0.6582 - val_accuracy: 0.7495 - val_f1_score: 0.7396\n",
            "Epoch 9/10\n",
            "742/742 [==============================] - 53s 71ms/step - loss: 0.3094 - accuracy: 0.8723 - f1_score: 0.8668 - val_loss: 0.6859 - val_accuracy: 0.7485 - val_f1_score: 0.7393\n",
            "Epoch 10/10\n",
            "742/742 [==============================] - 50s 67ms/step - loss: 0.2937 - accuracy: 0.8791 - f1_score: 0.8737 - val_loss: 0.7051 - val_accuracy: 0.7473 - val_f1_score: 0.7367\n"
          ]
        }
      ]
    },
    {
      "cell_type": "code",
      "source": [
        "raw_tab_train_ds, raw_tab_valid_ds, raw_tab_test_ds = data.load('tabiturient')"
      ],
      "metadata": {
        "id": "sA0prt3H2m79"
      },
      "execution_count": 14,
      "outputs": []
    },
    {
      "cell_type": "code",
      "source": [
        "train_tab_ds = data.vectorize(raw_tab_train_ds, vectorize_layer)\n",
        "valid_tab_ds = data.vectorize(raw_tab_valid_ds, vectorize_layer)\n",
        "test_tab_ds = data.vectorize(raw_tab_test_ds, vectorize_layer)\n"
      ],
      "metadata": {
        "id": "86UWWkY02-u9"
      },
      "execution_count": 15,
      "outputs": []
    },
    {
      "cell_type": "code",
      "source": [
        "model.evaluate(test_ds.batch(256))"
      ],
      "metadata": {
        "colab": {
          "base_uri": "https://localhost:8080/"
        },
        "id": "WXUhmG1r20jd",
        "outputId": "2647e4fa-dc7c-42c7-d738-13685a4d92ed"
      },
      "execution_count": 16,
      "outputs": [
        {
          "output_type": "stream",
          "name": "stdout",
          "text": [
            "42/42 [==============================] - 4s 57ms/step - loss: 0.6729 - accuracy: 0.7602 - f1_score: 0.7499\n"
          ]
        },
        {
          "output_type": "execute_result",
          "data": {
            "text/plain": [
              "[0.6728779673576355, 0.7601668238639832, 0.7499367594718933]"
            ]
          },
          "metadata": {},
          "execution_count": 16
        }
      ]
    },
    {
      "cell_type": "code",
      "source": [
        "model.evaluate(test_tab_ds.batch(256))"
      ],
      "metadata": {
        "colab": {
          "base_uri": "https://localhost:8080/"
        },
        "id": "K_KhrzHlL4QJ",
        "outputId": "d945fa83-b088-44e6-bf4b-b02724ea02b8"
      },
      "execution_count": 17,
      "outputs": [
        {
          "output_type": "stream",
          "name": "stdout",
          "text": [
            "2/2 [==============================] - 2s 212ms/step - loss: 2.1733 - accuracy: 0.3528 - f1_score: 0.3621\n"
          ]
        },
        {
          "output_type": "execute_result",
          "data": {
            "text/plain": [
              "[2.173318862915039, 0.35277777910232544, 0.36208558082580566]"
            ]
          },
          "metadata": {},
          "execution_count": 17
        }
      ]
    },
    {
      "cell_type": "code",
      "source": [
        "model.compile(loss=losses.CategoricalCrossentropy(from_logits=True),\n",
        "              optimizer=tf.keras.optimizers.Adam(1e-5),\n",
        "              metrics=['accuracy', tf.keras.metrics.F1Score(average='macro')])"
      ],
      "metadata": {
        "id": "14l-6JES3bM5"
      },
      "execution_count": 18,
      "outputs": []
    },
    {
      "cell_type": "code",
      "source": [
        "history = model.fit(\n",
        "    train_tab_ds.batch(16),\n",
        "    validation_data=valid_tab_ds.batch(16),\n",
        "    epochs=10\n",
        ")"
      ],
      "metadata": {
        "colab": {
          "base_uri": "https://localhost:8080/"
        },
        "id": "CmtXMLv73pJI",
        "outputId": "cde7bfe0-5724-49db-ec90-b68ca32b1c86"
      },
      "execution_count": 19,
      "outputs": [
        {
          "output_type": "stream",
          "name": "stdout",
          "text": [
            "Epoch 1/10\n",
            "180/180 [==============================] - 37s 189ms/step - loss: 2.1526 - accuracy: 0.4096 - f1_score: 0.4130 - val_loss: 1.6542 - val_accuracy: 0.4568 - val_f1_score: 0.4653\n",
            "Epoch 2/10\n",
            "180/180 [==============================] - 2s 9ms/step - loss: 1.8536 - accuracy: 0.4426 - f1_score: 0.4450 - val_loss: 1.4204 - val_accuracy: 0.4819 - val_f1_score: 0.4867\n",
            "Epoch 3/10\n",
            "180/180 [==============================] - 2s 12ms/step - loss: 1.6314 - accuracy: 0.4812 - f1_score: 0.4798 - val_loss: 1.2701 - val_accuracy: 0.5097 - val_f1_score: 0.5069\n",
            "Epoch 4/10\n",
            "180/180 [==============================] - 2s 9ms/step - loss: 1.4757 - accuracy: 0.4868 - f1_score: 0.4802 - val_loss: 1.1770 - val_accuracy: 0.5320 - val_f1_score: 0.5236\n",
            "Epoch 5/10\n",
            "180/180 [==============================] - 3s 16ms/step - loss: 1.3831 - accuracy: 0.5174 - f1_score: 0.5055 - val_loss: 1.1150 - val_accuracy: 0.5348 - val_f1_score: 0.5236\n",
            "Epoch 6/10\n",
            "180/180 [==============================] - 3s 19ms/step - loss: 1.2619 - accuracy: 0.5296 - f1_score: 0.5132 - val_loss: 1.0702 - val_accuracy: 0.5655 - val_f1_score: 0.5470\n",
            "Epoch 7/10\n",
            "180/180 [==============================] - 2s 9ms/step - loss: 1.2615 - accuracy: 0.5431 - f1_score: 0.5238 - val_loss: 1.0384 - val_accuracy: 0.5822 - val_f1_score: 0.5579\n",
            "Epoch 8/10\n",
            "180/180 [==============================] - 2s 9ms/step - loss: 1.2300 - accuracy: 0.5435 - f1_score: 0.5182 - val_loss: 1.0146 - val_accuracy: 0.5989 - val_f1_score: 0.5695\n",
            "Epoch 9/10\n",
            "180/180 [==============================] - 2s 9ms/step - loss: 1.1864 - accuracy: 0.5473 - f1_score: 0.5199 - val_loss: 0.9951 - val_accuracy: 0.5989 - val_f1_score: 0.5654\n",
            "Epoch 10/10\n",
            "180/180 [==============================] - 2s 9ms/step - loss: 1.1161 - accuracy: 0.5567 - f1_score: 0.5281 - val_loss: 0.9789 - val_accuracy: 0.6100 - val_f1_score: 0.5738\n"
          ]
        }
      ]
    },
    {
      "cell_type": "code",
      "source": [
        "data.plot(history)"
      ],
      "metadata": {
        "colab": {
          "base_uri": "https://localhost:8080/",
          "height": 472
        },
        "id": "QEsEJeywFp40",
        "outputId": "4f6944dd-fdbb-4c1e-90df-94b1ef21ed23"
      },
      "execution_count": 20,
      "outputs": [
        {
          "output_type": "display_data",
          "data": {
            "text/plain": [
              "<Figure size 640x480 with 1 Axes>"
            ],
            "image/png": "[encoded data removed]"
          },
          "metadata": {}
        }
      ]
    },
    {
      "cell_type": "code",
      "source": [
        "model.evaluate(test_tab_ds.batch(256))"
      ],
      "metadata": {
        "colab": {
          "base_uri": "https://localhost:8080/"
        },
        "id": "5iQQAvJI5ESI",
        "outputId": "bdae7aca-41c3-48a3-ffec-bd0e35feb44c"
      },
      "execution_count": 21,
      "outputs": [
        {
          "output_type": "stream",
          "name": "stdout",
          "text": [
            "2/2 [==============================] - 0s 35ms/step - loss: 1.0206 - accuracy: 0.5361 - f1_score: 0.5173\n"
          ]
        },
        {
          "output_type": "execute_result",
          "data": {
            "text/plain": [
              "[1.0205516815185547, 0.5361111164093018, 0.5173494815826416]"
            ]
          },
          "metadata": {},
          "execution_count": 21
        }
      ]
    },
    {
      "cell_type": "code",
      "source": [
        "model.save(f\"drive/MyDrive/models/model-{NAME}.keras\")"
      ],
      "metadata": {
        "id": "2NylblykGBlL"
      },
      "execution_count": 22,
      "outputs": []
    }
  ]
}