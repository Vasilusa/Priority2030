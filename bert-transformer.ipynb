{
 "cells": [
  {
   "cell_type": "code",
   "execution_count": 4,
   "id": "90000976",
   "metadata": {},
   "outputs": [
    {
     "name": "stdout",
     "output_type": "stream",
     "text": [
      "Defaulting to user installation because normal site-packages is not writeable\n",
      "Collecting tensorflow_datasets\n",
      "  Downloading tensorflow_datasets-4.9.5-py3-none-any.whl (5.1 MB)\n",
      "\u001b[2K     \u001b[38;2;114;156;31m━━━━━━━━━━━━━━━━━━━━━━━━━━━━━━━━━━━━━━━━\u001b[0m \u001b[32m5.1/5.1 MB\u001b[0m \u001b[31m6.2 MB/s\u001b[0m eta \u001b[36m0:00:00\u001b[0mm eta \u001b[36m0:00:01\u001b[0m[36m0:00:01\u001b[0m\n",
      "\u001b[?25hRequirement already satisfied: psutil in /home/vasilusa/.local/lib/python3.10/site-packages (from tensorflow_datasets) (5.9.5)\n",
      "Collecting array-record>=0.5.0\n",
      "  Downloading array_record-0.5.1-cp310-cp310-manylinux_2_17_x86_64.manylinux2014_x86_64.whl (2.2 MB)\n",
      "\u001b[2K     \u001b[38;2;114;156;31m━━━━━━━━━━━━━━━━━━━━━━━━━━━━━━━━━━━━━━━━\u001b[0m \u001b[32m2.2/2.2 MB\u001b[0m \u001b[31m7.3 MB/s\u001b[0m eta \u001b[36m0:00:00\u001b[0mm eta \u001b[36m0:00:01\u001b[0m[36m0:00:01\u001b[0mm\n",
      "\u001b[?25hCollecting simple-parsing\n",
      "  Downloading simple_parsing-0.1.5-py3-none-any.whl (113 kB)\n",
      "\u001b[2K     \u001b[38;2;114;156;31m━━━━━━━━━━━━━━━━━━━━━━━━━━━━━━━━━━━━━━━\u001b[0m \u001b[32m113.6/113.6 KB\u001b[0m \u001b[31m5.7 MB/s\u001b[0m eta \u001b[36m0:00:00\u001b[0m\n",
      "\u001b[?25hCollecting toml\n",
      "  Downloading toml-0.10.2-py2.py3-none-any.whl (16 kB)\n",
      "Collecting etils[enp,epath,epy,etree]>=1.6.0\n",
      "  Downloading etils-1.7.0-py3-none-any.whl (152 kB)\n",
      "\u001b[2K     \u001b[38;2;114;156;31m━━━━━━━━━━━━━━━━━━━━━━━━━━━━━━━━━━━━━━━\u001b[0m \u001b[32m152.4/152.4 KB\u001b[0m \u001b[31m4.2 MB/s\u001b[0m eta \u001b[36m0:00:00\u001b[0m31m13.2 MB/s\u001b[0m eta \u001b[36m0:00:01\u001b[0m\n",
      "\u001b[?25hRequirement already satisfied: absl-py in /home/vasilusa/.local/lib/python3.10/site-packages (from tensorflow_datasets) (2.1.0)\n",
      "Requirement already satisfied: click in /usr/lib/python3/dist-packages (from tensorflow_datasets) (8.0.3)\n",
      "Collecting promise\n",
      "  Downloading promise-2.3.tar.gz (19 kB)\n",
      "  Preparing metadata (setup.py) ... \u001b[?25ldone\n",
      "\u001b[?25hRequirement already satisfied: termcolor in /home/vasilusa/.local/lib/python3.10/site-packages (from tensorflow_datasets) (2.4.0)\n",
      "Collecting tensorflow-metadata\n",
      "  Downloading tensorflow_metadata-1.15.0-py3-none-any.whl (28 kB)\n",
      "Requirement already satisfied: tqdm in /home/vasilusa/.local/lib/python3.10/site-packages (from tensorflow_datasets) (4.65.0)\n",
      "Requirement already satisfied: protobuf>=3.20 in /home/vasilusa/.local/lib/python3.10/site-packages (from tensorflow_datasets) (4.25.3)\n",
      "Requirement already satisfied: dm-tree in /home/vasilusa/.local/lib/python3.10/site-packages (from tensorflow_datasets) (0.1.8)\n",
      "Requirement already satisfied: wrapt in /home/vasilusa/.local/lib/python3.10/site-packages (from tensorflow_datasets) (1.16.0)\n",
      "Requirement already satisfied: numpy in /home/vasilusa/.local/lib/python3.10/site-packages (from tensorflow_datasets) (1.24.3)\n",
      "Collecting pyarrow\n",
      "  Downloading pyarrow-16.1.0-cp310-cp310-manylinux_2_28_x86_64.whl (40.8 MB)\n",
      "\u001b[2K     \u001b[38;2;114;156;31m━━━━━━━━━━━━━━━━━━━━━━━━━━━━━━━━━━━━━━━━\u001b[0m \u001b[32m40.8/40.8 MB\u001b[0m \u001b[31m6.0 MB/s\u001b[0m eta \u001b[36m0:00:00\u001b[0mm eta \u001b[36m0:00:01\u001b[0m[36m0:00:01\u001b[0m\n",
      "\u001b[?25hRequirement already satisfied: requests>=2.19.0 in /usr/lib/python3/dist-packages (from tensorflow_datasets) (2.25.1)\n",
      "Collecting immutabledict\n",
      "  Downloading immutabledict-4.2.0-py3-none-any.whl (4.7 kB)\n",
      "Requirement already satisfied: typing_extensions in /home/vasilusa/.local/lib/python3.10/site-packages (from etils[enp,epath,epy,etree]>=1.6.0->tensorflow_datasets) (4.11.0)\n",
      "Collecting fsspec\n",
      "  Downloading fsspec-2024.5.0-py3-none-any.whl (316 kB)\n",
      "\u001b[2K     \u001b[38;2;114;156;31m━━━━━━━━━━━━━━━━━━━━━━━━━━━━━━━━━━━━━━━\u001b[0m \u001b[32m316.1/316.1 KB\u001b[0m \u001b[31m5.0 MB/s\u001b[0m eta \u001b[36m0:00:00\u001b[0m31m10.9 MB/s\u001b[0m eta \u001b[36m0:00:01\u001b[0m\n",
      "\u001b[?25hRequirement already satisfied: zipp in /usr/lib/python3/dist-packages (from etils[enp,epath,epy,etree]>=1.6.0->tensorflow_datasets) (1.0.0)\n",
      "Collecting importlib_resources\n",
      "  Downloading importlib_resources-6.4.0-py3-none-any.whl (38 kB)\n",
      "Requirement already satisfied: six in /usr/lib/python3/dist-packages (from promise->tensorflow_datasets) (1.16.0)\n",
      "Collecting docstring-parser~=0.15\n",
      "  Downloading docstring_parser-0.16-py3-none-any.whl (36 kB)\n",
      "Collecting protobuf>=3.20\n",
      "  Downloading protobuf-3.20.3-cp310-cp310-manylinux_2_12_x86_64.manylinux2010_x86_64.whl (1.1 MB)\n",
      "\u001b[2K     \u001b[38;2;114;156;31m━━━━━━━━━━━━━━━━━━━━━━━━━━━━━━━━━━━━━━━━\u001b[0m \u001b[32m1.1/1.1 MB\u001b[0m \u001b[31m6.7 MB/s\u001b[0m eta \u001b[36m0:00:00\u001b[0mm eta \u001b[36m0:00:01\u001b[0m[36m0:00:01\u001b[0mm\n",
      "\u001b[?25hBuilding wheels for collected packages: promise\n",
      "  Building wheel for promise (setup.py) ... \u001b[?25ldone\n",
      "\u001b[?25h  Created wheel for promise: filename=promise-2.3-py3-none-any.whl size=21502 sha256=2f8876abc46f141ddb6427e7013fb6cd8294146f1c42a6790933e5432eaede74\n",
      "  Stored in directory: /home/vasilusa/.cache/pip/wheels/54/4e/28/3ed0e1c8a752867445bab994d2340724928aa3ab059c57c8db\n",
      "Successfully built promise\n",
      "Installing collected packages: toml, pyarrow, protobuf, promise, importlib_resources, immutabledict, fsspec, etils, docstring-parser, tensorflow-metadata, simple-parsing, array-record, tensorflow_datasets\n",
      "  Attempting uninstall: protobuf\n",
      "    Found existing installation: protobuf 4.25.3\n",
      "    Uninstalling protobuf-4.25.3:\n",
      "      Successfully uninstalled protobuf-4.25.3\n",
      "Successfully installed array-record-0.5.1 docstring-parser-0.16 etils-1.7.0 fsspec-2024.5.0 immutabledict-4.2.0 importlib_resources-6.4.0 promise-2.3 protobuf-3.20.3 pyarrow-16.1.0 simple-parsing-0.1.5 tensorflow-metadata-1.15.0 tensorflow_datasets-4.9.5 toml-0.10.2\n"
     ]
    }
   ],
   "source": [
    "!pip install tensorflow_datasets"
   ]
  },
  {
   "cell_type": "code",
   "execution_count": 6,
   "id": "d202a5a6-ccb0-4523-a87b-78f9c5659c02",
   "metadata": {
    "scrolled": true
   },
   "outputs": [],
   "source": [
    "import os\n",
    "os.environ[\"KERAS_BACKEND\"] = \"tensorflow\"  # Or \"jax\" or \"torch\"!\n",
    "\n",
    "import keras_nlp\n",
    "import tensorflow_datasets as tfds\n",
    "import keras"
   ]
  },
  {
   "cell_type": "code",
   "execution_count": 7,
   "id": "15527f47-720c-4f5f-b132-0ae12a011258",
   "metadata": {},
   "outputs": [
    {
     "name": "stderr",
     "output_type": "stream",
     "text": [
      "2024-05-31 11:15:36.650393: W external/local_tsl/tsl/platform/cloud/google_auth_provider.cc:184] All attempts to get a Google authentication bearer token failed, returning an empty token. Retrieving token from files failed with \"NOT_FOUND: Could not locate the credentials file.\". Retrieving token from GCE failed with \"FAILED_PRECONDITION: Error executing an HTTP request: libcurl code 6 meaning 'Couldn't resolve host name', error details: Could not resolve host: metadata.google.internal\".\n"
     ]
    },
    {
     "name": "stdout",
     "output_type": "stream",
     "text": [
      "\u001b[1mDownloading and preparing dataset 80.23 MiB (download: 80.23 MiB, generated: Unknown size, total: 80.23 MiB) to /home/vasilusa/tensorflow_datasets/imdb_reviews/plain_text/1.0.0...\u001b[0m\n"
     ]
    },
    {
     "name": "stderr",
     "output_type": "stream",
     "text": [
      "/home/vasilusa/.local/lib/python3.10/site-packages/tqdm/auto.py:21: TqdmWarning: IProgress not found. Please update jupyter and ipywidgets. See https://ipywidgets.readthedocs.io/en/stable/user_install.html\n",
      "  from .autonotebook import tqdm as notebook_tqdm\n",
      "Dl Completed...: 0 url [00:00, ? url/s]\n",
      "Dl Completed...:   0%|                                                                                                                                                                                              | 0/1 [00:00<?, ? url/s]\n",
      "Dl Completed...:   0%|                                                                                                                                                                                              | 0/1 [00:00<?, ? url/s]\n",
      "Dl Size...:   0%|                                                                                                                                                                                                  | 0/80 [00:00<?, ? MiB/s]\u001b[A\n",
      "Dl Completed...:   0%|                                                                                                                                                                                              | 0/1 [00:02<?, ? url/s]\u001b[A\n",
      "Dl Completed...:   0%|                                                                                                                                                                                              | 0/1 [00:02<?, ? url/s]\u001b[A\n",
      "Dl Size...:   2%|████▋                                                                                                                                                                                     | 2/80 [00:02<02:52,  2.21s/ MiB]\u001b[A\n",
      "Dl Completed...:   0%|                                                                                                                                                                                              | 0/1 [00:03<?, ? url/s]\u001b[A\n",
      "Dl Completed...:   0%|                                                                                                                                                                                              | 0/1 [00:04<?, ? url/s]\u001b[A\n",
      "Dl Size...:   5%|█████████▎                                                                                                                                                                                | 4/80 [00:04<01:22,  1.08s/ MiB]\u001b[A\n",
      "Dl Completed...:   0%|                                                                                                                                                                                              | 0/1 [00:04<?, ? url/s]\u001b[A\n",
      "Dl Completed...:   0%|                                                                                                                                                                                              | 0/1 [00:05<?, ? url/s]\u001b[A\n",
      "Dl Size...:   8%|█████████████▉                                                                                                                                                                            | 6/80 [00:05<01:03,  1.17 MiB/s]\u001b[A\n",
      "Dl Completed...:   0%|                                                                                                                                                                                              | 0/1 [00:05<?, ? url/s]\u001b[A\n",
      "Dl Completed...:   0%|                                                                                                                                                                                              | 0/1 [00:06<?, ? url/s]\u001b[A\n",
      "Dl Size...:  10%|██████████████████▌                                                                                                                                                                       | 8/80 [00:06<00:52,  1.38 MiB/s]\u001b[A\n",
      "Dl Completed...:   0%|                                                                                                                                                                                              | 0/1 [00:07<?, ? url/s]\u001b[A\n",
      "Dl Completed...:   0%|                                                                                                                                                                                              | 0/1 [00:07<?, ? url/s]\u001b[A\n",
      "Dl Size...:  12%|███████████████████████▏                                                                                                                                                                 | 10/80 [00:07<00:46,  1.51 MiB/s]\u001b[A\n",
      "Dl Completed...:   0%|                                                                                                                                                                                              | 0/1 [00:08<?, ? url/s]\u001b[A\n",
      "Dl Completed...:   0%|                                                                                                                                                                                              | 0/1 [00:08<?, ? url/s]\u001b[A\n",
      "Dl Size...:  15%|███████████████████████████▊                                                                                                                                                             | 12/80 [00:08<00:42,  1.59 MiB/s]\u001b[A\n",
      "Dl Completed...:   0%|                                                                                                                                                                                              | 0/1 [00:09<?, ? url/s]\u001b[A\n",
      "Dl Completed...:   0%|                                                                                                                                                                                              | 0/1 [00:09<?, ? url/s]\u001b[A\n",
      "Dl Size...:  18%|████████████████████████████████▍                                                                                                                                                        | 14/80 [00:09<00:39,  1.69 MiB/s]\u001b[A\n",
      "Dl Completed...:   0%|                                                                                                                                                                                              | 0/1 [00:10<?, ? url/s]\u001b[A\n",
      "Dl Completed...:   0%|                                                                                                                                                                                              | 0/1 [00:10<?, ? url/s]\u001b[A\n",
      "Dl Size...:  20%|█████████████████████████████████████                                                                                                                                                    | 16/80 [00:10<00:37,  1.71 MiB/s]\u001b[A\n",
      "Dl Completed...:   0%|                                                                                                                                                                                              | 0/1 [00:11<?, ? url/s]\u001b[A\n",
      "Dl Completed...:   0%|                                                                                                                                                                                              | 0/1 [00:11<?, ? url/s]\u001b[A\n",
      "Dl Completed...:   0%|                                                                                                                                                                                              | 0/1 [00:12<?, ? url/s]\u001b[A\n",
      "Dl Size...:  24%|███████████████████████████████████████████▉                                                                                                                                             | 19/80 [00:12<00:34,  1.78 MiB/s]\u001b[A\n",
      "Dl Completed...:   0%|                                                                                                                                                                                              | 0/1 [00:12<?, ? url/s]\u001b[A\n"
     ]
    },
    {
     "name": "stderr",
     "output_type": "stream",
     "text": [
      "Dl Completed...:   0%|                                                                                                                                                                                              | 0/1 [00:13<?, ? url/s]\u001b[A\n",
      "Dl Completed...:   0%|                                                                                                                                                                                              | 0/1 [00:13<?, ? url/s]\u001b[A\n",
      "Dl Size...:  28%|██████████████████████████████████████████████████▉                                                                                                                                      | 22/80 [00:13<00:30,  1.87 MiB/s]\u001b[A\n",
      "Dl Completed...:   0%|                                                                                                                                                                                              | 0/1 [00:14<?, ? url/s]\u001b[A\n",
      "Dl Completed...:   0%|                                                                                                                                                                                              | 0/1 [00:14<?, ? url/s]\u001b[A\n",
      "Dl Completed...:   0%|                                                                                                                                                                                              | 0/1 [00:15<?, ? url/s]\u001b[A\n",
      "Dl Size...:  31%|█████████████████████████████████████████████████████████▊                                                                                                                               | 25/80 [00:15<00:26,  2.06 MiB/s]\u001b[A\n",
      "Dl Completed...:   0%|                                                                                                                                                                                              | 0/1 [00:15<?, ? url/s]\u001b[A\n",
      "Dl Completed...:   0%|                                                                                                                                                                                              | 0/1 [00:15<?, ? url/s]\u001b[A\n",
      "Dl Completed...:   0%|                                                                                                                                                                                              | 0/1 [00:16<?, ? url/s]\u001b[A\n",
      "Dl Size...:  35%|████████████████████████████████████████████████████████████████▊                                                                                                                        | 28/80 [00:16<00:24,  2.11 MiB/s]\u001b[A\n",
      "Dl Completed...:   0%|                                                                                                                                                                                              | 0/1 [00:16<?, ? url/s]\u001b[A\n",
      "Dl Completed...:   0%|                                                                                                                                                                                              | 0/1 [00:17<?, ? url/s]\u001b[A\n",
      "Dl Completed...:   0%|                                                                                                                                                                                              | 0/1 [00:17<?, ? url/s]\u001b[A\n",
      "Dl Size...:  39%|███████████████████████████████████████████████████████████████████████▋                                                                                                                 | 31/80 [00:17<00:22,  2.18 MiB/s]\u001b[A\n",
      "Dl Completed...:   0%|                                                                                                                                                                                              | 0/1 [00:18<?, ? url/s]\u001b[A\n",
      "Dl Completed...:   0%|                                                                                                                                                                                              | 0/1 [00:18<?, ? url/s]\u001b[A\n",
      "Dl Completed...:   0%|                                                                                                                                                                                              | 0/1 [00:18<?, ? url/s]\u001b[A\n",
      "Dl Size...:  42%|██████████████████████████████████████████████████████████████████████████████▋                                                                                                          | 34/80 [00:18<00:20,  2.21 MiB/s]\u001b[A\n",
      "Dl Completed...:   0%|                                                                                                                                                                                              | 0/1 [00:19<?, ? url/s]\u001b[A\n",
      "Dl Completed...:   0%|                                                                                                                                                                                              | 0/1 [00:19<?, ? url/s]\u001b[A\n",
      "Dl Completed...:   0%|                                                                                                                                                                                              | 0/1 [00:20<?, ? url/s]\u001b[A\n",
      "Dl Size...:  46%|█████████████████████████████████████████████████████████████████████████████████████▌                                                                                                   | 37/80 [00:20<00:19,  2.22 MiB/s]\u001b[A\n",
      "Dl Completed...:   0%|                                                                                                                                                                                              | 0/1 [00:20<?, ? url/s]\u001b[A\n",
      "Dl Completed...:   0%|                                                                                                                                                                                              | 0/1 [00:21<?, ? url/s]\u001b[A\n",
      "Dl Completed...:   0%|                                                                                                                                                                                              | 0/1 [00:21<?, ? url/s]\u001b[A\n",
      "Dl Size...:  50%|████████████████████████████████████████████████████████████████████████████████████████████▌                                                                                            | 40/80 [00:21<00:18,  2.21 MiB/s]\u001b[A\n",
      "Dl Completed...:   0%|                                                                                                                                                                                              | 0/1 [00:22<?, ? url/s]\u001b[A\n",
      "Dl Completed...:   0%|                                                                                                                                                                                              | 0/1 [00:22<?, ? url/s]\u001b[A\n",
      "Dl Completed...:   0%|                                                                                                                                                                                              | 0/1 [00:23<?, ? url/s]\u001b[A\n",
      "Dl Size...:  54%|███████████████████████████████████████████████████████████████████████████████████████████████████▍                                                                                     | 43/80 [00:23<00:16,  2.22 MiB/s]\u001b[A\n",
      "Dl Completed...:   0%|                                                                                                                                                                                              | 0/1 [00:23<?, ? url/s]\u001b[A\n",
      "Dl Completed...:   0%|                                                                                                                                                                                              | 0/1 [00:24<?, ? url/s]\u001b[A\n",
      "Dl Completed...:   0%|                                                                                                                                                                                              | 0/1 [00:24<?, ? url/s]\u001b[A\n"
     ]
    },
    {
     "name": "stderr",
     "output_type": "stream",
     "text": [
      "Dl Size...:  57%|██████████████████████████████████████████████████████████████████████████████████████████████████████████▎                                                                              | 46/80 [00:24<00:16,  2.11 MiB/s]\u001b[A\n",
      "Dl Completed...:   0%|                                                                                                                                                                                              | 0/1 [00:25<?, ? url/s]\u001b[A\n",
      "Dl Completed...:   0%|                                                                                                                                                                                              | 0/1 [00:25<?, ? url/s]\u001b[A\n",
      "Dl Completed...:   0%|                                                                                                                                                                                              | 0/1 [00:26<?, ? url/s]\u001b[A\n",
      "Dl Size...:  61%|█████████████████████████████████████████████████████████████████████████████████████████████████████████████████▎                                                                       | 49/80 [00:26<00:15,  2.06 MiB/s]\u001b[A\n",
      "Dl Completed...:   0%|                                                                                                                                                                                              | 0/1 [00:26<?, ? url/s]\u001b[A\n",
      "Dl Completed...:   0%|                                                                                                                                                                                              | 0/1 [00:27<?, ? url/s]\u001b[A\n",
      "Dl Completed...:   0%|                                                                                                                                                                                              | 0/1 [00:27<?, ? url/s]\u001b[A\n",
      "Dl Size...:  65%|████████████████████████████████████████████████████████████████████████████████████████████████████████████████████████▎                                                                | 52/80 [00:27<00:13,  2.10 MiB/s]\u001b[A\n",
      "Dl Completed...:   0%|                                                                                                                                                                                              | 0/1 [00:27<?, ? url/s]\u001b[A\n",
      "Dl Completed...:   0%|                                                                                                                                                                                              | 0/1 [00:28<?, ? url/s]\u001b[A\n",
      "Dl Completed...:   0%|                                                                                                                                                                                              | 0/1 [00:28<?, ? url/s]\u001b[A\n",
      "Dl Size...:  69%|███████████████████████████████████████████████████████████████████████████████████████████████████████████████████████████████▏                                                         | 55/80 [00:28<00:11,  2.14 MiB/s]\u001b[A\n",
      "Dl Completed...:   0%|                                                                                                                                                                                              | 0/1 [00:29<?, ? url/s]\u001b[A\n",
      "Dl Completed...:   0%|                                                                                                                                                                                              | 0/1 [00:29<?, ? url/s]\u001b[A\n",
      "Dl Completed...:   0%|                                                                                                                                                                                              | 0/1 [00:30<?, ? url/s]\u001b[A\n",
      "Dl Size...:  72%|██████████████████████████████████████████████████████████████████████████████████████████████████████████████████████████████████████▏                                                  | 58/80 [00:30<00:10,  2.17 MiB/s]\u001b[A\n",
      "Dl Completed...:   0%|                                                                                                                                                                                              | 0/1 [00:30<?, ? url/s]\u001b[A\n",
      "Dl Completed...:   0%|                                                                                                                                                                                              | 0/1 [00:31<?, ? url/s]\u001b[A\n",
      "Dl Completed...:   0%|                                                                                                                                                                                              | 0/1 [00:31<?, ? url/s]\u001b[A\n",
      "Dl Size...:  76%|█████████████████████████████████████████████████████████████████████████████████████████████████████████████████████████████████████████████                                            | 61/80 [00:31<00:08,  2.20 MiB/s]\u001b[A\n",
      "Dl Completed...:   0%|                                                                                                                                                                                              | 0/1 [00:31<?, ? url/s]\u001b[A\n",
      "Dl Completed...:   0%|                                                                                                                                                                                              | 0/1 [00:32<?, ? url/s]\u001b[A\n",
      "Dl Completed...:   0%|                                                                                                                                                                                              | 0/1 [00:32<?, ? url/s]\u001b[A\n",
      "Dl Size...:  80%|████████████████████████████████████████████████████████████████████████████████████████████████████████████████████████████████████████████████████                                     | 64/80 [00:32<00:07,  2.22 MiB/s]\u001b[A\n",
      "Dl Completed...:   0%|                                                                                                                                                                                              | 0/1 [00:33<?, ? url/s]\u001b[A\n",
      "Dl Completed...:   0%|                                                                                                                                                                                              | 0/1 [00:33<?, ? url/s]\u001b[A\n",
      "Dl Completed...:   0%|                                                                                                                                                                                              | 0/1 [00:34<?, ? url/s]\u001b[A\n",
      "Dl Size...:  84%|██████████████████████████████████████████████████████████████████████████████████████████████████████████████████████████████████████████████████████████▉                              | 67/80 [00:34<00:05,  2.29 MiB/s]\u001b[A\n",
      "Dl Completed...:   0%|                                                                                                                                                                                              | 0/1 [00:34<?, ? url/s]\u001b[A\n",
      "Dl Completed...:   0%|                                                                                                                                                                                              | 0/1 [00:35<?, ? url/s]\u001b[A\n",
      "Dl Completed...:   0%|                                                                                                                                                                                              | 0/1 [00:35<?, ? url/s]\u001b[A\n",
      "Dl Size...:  88%|█████████████████████████████████████████████████████████████████████████████████████████████████████████████████████████████████████████████████████████████████▉                       | 70/80 [00:35<00:04,  2.21 MiB/s]\u001b[A\n",
      "Dl Completed...:   0%|                                                                                                                                                                                              | 0/1 [00:35<?, ? url/s]\u001b[A\n"
     ]
    },
    {
     "name": "stderr",
     "output_type": "stream",
     "text": [
      "Dl Completed...:   0%|                                                                                                                                                                                              | 0/1 [00:36<?, ? url/s]\u001b[A\n",
      "Dl Completed...:   0%|                                                                                                                                                                                              | 0/1 [00:36<?, ? url/s]\u001b[A\n",
      "Dl Size...:  91%|████████████████████████████████████████████████████████████████████████████████████████████████████████████████████████████████████████████████████████████████████████▊                | 73/80 [00:36<00:03,  2.23 MiB/s]\u001b[A\n",
      "Dl Completed...:   0%|                                                                                                                                                                                              | 0/1 [00:37<?, ? url/s]\u001b[A\n",
      "Dl Completed...:   0%|                                                                                                                                                                                              | 0/1 [00:37<?, ? url/s]\u001b[A\n",
      "Dl Completed...:   0%|                                                                                                                                                                                              | 0/1 [00:37<?, ? url/s]\u001b[A\n",
      "Dl Size...:  95%|███████████████████████████████████████████████████████████████████████████████████████████████████████████████████████████████████████████████████████████████████████████████▊         | 76/80 [00:37<00:01,  2.29 MiB/s]\u001b[A\n",
      "Dl Completed...:   0%|                                                                                                                                                                                              | 0/1 [00:38<?, ? url/s]\u001b[A\n",
      "Dl Completed...:   0%|                                                                                                                                                                                              | 0/1 [00:38<?, ? url/s]\u001b[A\n",
      "Dl Completed...:   0%|                                                                                                                                                                                              | 0/1 [00:39<?, ? url/s]\u001b[A\n",
      "Dl Size...:  99%|██████████████████████████████████████████████████████████████████████████████████████████████████████████████████████████████████████████████████████████████████████████████████████▋  | 79/80 [00:39<00:00,  2.37 MiB/s]\u001b[A\n",
      "Dl Completed...:   0%|                                                                                                                                                                                              | 0/1 [00:39<?, ? url/s]\u001b[A\n",
      "Dl Completed...: 100%|██████████████████████████████████████████████████████████████████████████████████████████████████████████████████████████████████████████████████████████████████████████████████████| 1/1 [00:39<00:00, 39.57s/ url]\u001b[A\n",
      "Dl Size...: 100%|█████████████████████████████████████████████████████████████████████████████████████████████████████████████████████████████████████████████████████████████████████████████████████████| 80/80 [00:39<00:00,  2.02 MiB/s]\u001b[A\n",
      "Dl Completed...: 100%|██████████████████████████████████████████████████████████████████████████████████████████████████████████████████████████████████████████████████████████████████████████████████████| 1/1 [00:39<00:00, 39.59s/ url]\n",
      "Generating splits...:   0%|                                                                                                                                                                                      | 0/3 [00:00<?, ? splits/s]\n",
      "Generating train examples...:   0%|                                                                                                                                                                        | 0/25000 [00:00<?, ? examples/s]\u001b[A\n",
      "Generating train examples...:   0%|                                                                                                                                                             | 1/25000 [00:03<22:53:24,  3.30s/ examples]\u001b[A\n",
      "Generating train examples...:  15%|███████████████████████▋                                                                                                                                   | 3819/25000 [00:04<00:18, 1154.52 examples/s]\u001b[A\n",
      "Generating train examples...:  31%|███████████████████████████████████████████████▊                                                                                                           | 7703/25000 [00:05<00:08, 1977.80 examples/s]\u001b[A\n",
      "Generating train examples...:  46%|███████████████████████████████████████████████████████████████████████                                                                                   | 11544/25000 [00:06<00:05, 2538.51 examples/s]\u001b[A\n",
      "Generating train examples...:  61%|██████████████████████████████████████████████████████████████████████████████████████████████▏                                                           | 15297/25000 [00:07<00:03, 2903.63 examples/s]\u001b[A\n",
      "Generating train examples...:  78%|████████████████████████████████████████████████████████████████████████████████████████████████████████████████████████▏                                 | 19504/25000 [00:08<00:01, 3295.31 examples/s]\u001b[A\n",
      "Generating train examples...:  94%|█████████████████████████████████████████████████████████████████████████████████████████████████████████████████████████████████████████████████▎        | 23587/25000 [00:09<00:00, 3531.88 examples/s]\u001b[A\n",
      "                                                                                                                                                                                                                                            \u001b[A\n",
      "Shuffling /home/vasilusa/tensorflow_datasets/imdb_reviews/plain_text/incomplete.A483CM_1.0.0/imdb_reviews-train.tfrecord*...:   0%|                                                                        | 0/25000 [00:00<?, ? examples/s]\u001b[A\n",
      "Generating splits...:  33%|██████████████████████████████████████████████████████████                                                                                                                    | 1/3 [00:14<00:28, 14.26s/ splits]\u001b[A\n",
      "Generating test examples...:   0%|                                                                                                                                                                         | 0/25000 [00:00<?, ? examples/s]\u001b[A\n",
      "Generating test examples...:   5%|███████▋                                                                                                                                                    | 1224/25000 [00:01<00:19, 1223.77 examples/s]\u001b[A\n",
      "Generating test examples...:  20%|███████████████████████████████▊                                                                                                                            | 5105/25000 [00:02<00:07, 2786.62 examples/s]\u001b[A\n",
      "Generating test examples...:  37%|█████████████████████████████████████████████████████████▋                                                                                                  | 9248/25000 [00:03<00:04, 3405.71 examples/s]\u001b[A\n",
      "Generating test examples...:  53%|██████████████████████████████████████████████████████████████████████████████████▍                                                                        | 13289/25000 [00:04<00:03, 3656.15 examples/s]\u001b[A\n",
      "Generating test examples...:  69%|███████████████████████████████████████████████████████████████████████████████████████████████████████████                                                | 17277/25000 [00:05<00:02, 3775.63 examples/s]\u001b[A\n",
      "Generating test examples...:  84%|██████████████████████████████████████████████████████████████████████████████████████████████████████████████████████████████████▌                        | 21053/25000 [00:06<00:01, 3456.54 examples/s]\u001b[A\n"
     ]
    },
    {
     "name": "stderr",
     "output_type": "stream",
     "text": [
      "Generating test examples...:  99%|█████████████████████████████████████████████████████████████████████████████████████████████████████████████████████████████████████████████████████████▊ | 24818/25000 [00:07<00:00, 3550.90 examples/s]\u001b[A\n",
      "                                                                                                                                                                                                                                            \u001b[A\n",
      "Shuffling /home/vasilusa/tensorflow_datasets/imdb_reviews/plain_text/incomplete.A483CM_1.0.0/imdb_reviews-test.tfrecord*...:   0%|                                                                         | 0/25000 [00:00<?, ? examples/s]\u001b[A\n",
      "Generating splits...:  67%|████████████████████████████████████████████████████████████████████████████████████████████████████████████████████                                                          | 2/3 [00:29<00:14, 14.69s/ splits]\u001b[A\n",
      "Generating unsupervised examples...:   0%|                                                                                                                                                                 | 0/50000 [00:00<?, ? examples/s]\u001b[A\n",
      "Generating unsupervised examples...:   0%|                                                                                                                                                      | 1/50000 [00:06<85:28:38,  6.15s/ examples]\u001b[A\n",
      "Generating unsupervised examples...:   8%|███████████▉                                                                                                                                         | 3999/50000 [00:07<01:01, 753.30 examples/s]\u001b[A\n",
      "Generating unsupervised examples...:  16%|███████████████████████▎                                                                                                                            | 7864/50000 [00:08<00:29, 1413.12 examples/s]\u001b[A\n",
      "Generating unsupervised examples...:  23%|██████████████████████████████████▌                                                                                                                | 11749/50000 [00:09<00:19, 1987.79 examples/s]\u001b[A\n",
      "Generating unsupervised examples...:  31%|█████████████████████████████████████████████▌                                                                                                     | 15512/50000 [00:10<00:14, 2430.37 examples/s]\u001b[A\n",
      "Generating unsupervised examples...:  38%|███████████████████████████████████████████████████████▉                                                                                           | 19027/50000 [00:11<00:11, 2672.36 examples/s]\u001b[A\n",
      "Generating unsupervised examples...:  45%|██████████████████████████████████████████████████████████████████▋                                                                                | 22692/50000 [00:12<00:09, 2939.86 examples/s]\u001b[A\n",
      "Generating unsupervised examples...:  53%|██████████████████████████████████████████████████████████████████████████████▌                                                                    | 26707/50000 [00:13<00:07, 3238.61 examples/s]\u001b[A\n",
      "Generating unsupervised examples...:  61%|██████████████████████████████████████████████████████████████████████████████████████████                                                         | 30617/50000 [00:14<00:05, 3429.30 examples/s]\u001b[A\n",
      "Generating unsupervised examples...:  69%|█████████████████████████████████████████████████████████████████████████████████████████████████████                                              | 34388/50000 [00:15<00:04, 3527.80 examples/s]\u001b[A\n",
      "Generating unsupervised examples...:  76%|████████████████████████████████████████████████████████████████████████████████████████████████████████████████▏                                  | 38144/50000 [00:16<00:03, 3580.64 examples/s]\u001b[A\n",
      "Generating unsupervised examples...:  84%|███████████████████████████████████████████████████████████████████████████████████████████████████████████████████████████▏                       | 41885/50000 [00:17<00:02, 3458.78 examples/s]\u001b[A\n",
      "Generating unsupervised examples...:  91%|██████████████████████████████████████████████████████████████████████████████████████████████████████████████████████████████████████             | 45588/50000 [00:18<00:01, 3528.34 examples/s]\u001b[A\n",
      "Generating unsupervised examples...:  98%|████████████████████████████████████████████████████████████████████████████████████████████████████████████████████████████████████████████████▊  | 49240/50000 [00:19<00:00, 3564.12 examples/s]\u001b[A\n",
      "                                                                                                                                                                                                                                            \u001b[A\n",
      "Shuffling /home/vasilusa/tensorflow_datasets/imdb_reviews/plain_text/incomplete.A483CM_1.0.0/imdb_reviews-unsupervised.tfrecord*...:   0%|                                                                 | 0/50000 [00:00<?, ? examples/s]\u001b[A\n",
      "                                                                                                                                                                                                                                            \u001b[A\r"
     ]
    },
    {
     "name": "stdout",
     "output_type": "stream",
     "text": [
      "\u001b[1mDataset imdb_reviews downloaded and prepared to /home/vasilusa/tensorflow_datasets/imdb_reviews/plain_text/1.0.0. Subsequent calls will reuse this data.\u001b[0m\n"
     ]
    }
   ],
   "source": [
    "imdb_train, imdb_test = tfds.load(\n",
    "    \"imdb_reviews\",\n",
    "    split=[\"train\", \"test\"],\n",
    "    as_supervised=True,\n",
    "    batch_size=16,\n",
    ")"
   ]
  },
  {
   "cell_type": "code",
   "execution_count": 3,
   "id": "5aca89f7-4fa0-4035-8a54-a4f434f9fe22",
   "metadata": {},
   "outputs": [
    {
     "name": "stdout",
     "output_type": "stream",
     "text": [
      "Downloading data from https://storage.googleapis.com/keras-nlp/models/bert_tiny_en_uncased/v1/vocab.txt\n",
      "231508/231508 [==============================] - 0s 1us/step\n",
      "Downloading data from https://storage.googleapis.com/keras-nlp/models/bert_tiny_en_uncased/v1/model.h5\n",
      "17602216/17602216 [==============================] - 2s 0us/step\n"
     ]
    }
   ],
   "source": [
    "# Load a BERT model.\n",
    "classifier = keras_nlp.models.BertClassifier.from_preset(\n",
    "    \"bert_tiny_en_uncased\", \n",
    "    num_classes=2,\n",
    "    activation=\"softmax\",\n",
    ")"
   ]
  },
  {
   "cell_type": "code",
   "execution_count": 4,
   "id": "5bc32dc3-54e5-42da-a4b7-288d1f558d07",
   "metadata": {},
   "outputs": [
    {
     "name": "stderr",
     "output_type": "stream",
     "text": [
      "2023-12-13 13:45:02.272766: I external/local_xla/xla/service/service.cc:168] XLA service 0x7f69d4018c60 initialized for platform Host (this does not guarantee that XLA will be used). Devices:\n",
      "2023-12-13 13:45:02.272877: I external/local_xla/xla/service/service.cc:176]   StreamExecutor device (0): Host, Default Version\n",
      "2023-12-13 13:45:02.511345: I tensorflow/compiler/mlir/tensorflow/utils/dump_mlir_util.cc:269] disabling MLIR crash reproducer, set env var `MLIR_CRASH_REPRODUCER_DIRECTORY` to enable.\n",
      "2023-12-13 13:45:02.842701: W tensorflow/compiler/tf2xla/kernels/random_ops.cc:59] Warning: Using tf.random.uniform with XLA compilation will ignore seeds; consider using tf.random.stateless_uniform instead if reproducible behavior is desired. bert_classifier/bert_backbone/embeddings_dropout/dropout/random_uniform/RandomUniform\n",
      "WARNING: All log messages before absl::InitializeLog() is called are written to STDERR\n",
      "I0000 00:00:1702464308.197887    2278 device_compiler.h:186] Compiled cluster using XLA!  This line is logged at most once for the lifetime of the process.\n",
      "2023-12-13 13:45:08.203171: E external/local_xla/xla/stream_executor/stream_executor_internal.h:177] SetPriority unimplemented for this stream.\n"
     ]
    },
    {
     "name": "stdout",
     "output_type": "stream",
     "text": [
      "1563/1563 [==============================] - 2766s 2s/step - loss: 0.4098 - sparse_categorical_accuracy: 0.8097 - val_loss: 0.3035 - val_sparse_categorical_accuracy: 0.8714\n"
     ]
    },
    {
     "data": {
      "text/plain": [
       "<keras.src.callbacks.History at 0x7f6a186bb650>"
      ]
     },
     "execution_count": 4,
     "metadata": {},
     "output_type": "execute_result"
    }
   ],
   "source": [
    "# Fine-tune on IMDb movie reviews.\n",
    "classifier.fit(imdb_train, validation_data=imdb_test)"
   ]
  },
  {
   "cell_type": "code",
   "execution_count": 5,
   "id": "a8bf0293-7f8a-4471-a667-fe7fabaf906d",
   "metadata": {},
   "outputs": [],
   "source": [
    "examples = [\n",
    "  \"The movie was great!\",\n",
    "  \"The movie was okay.\",\n",
    "  \"The movie was terrible...\",\n",
    "  \"I ll recommend this movie to all my friends\"    \n",
    "]\n",
    "\n",
    "examples2 = [\"What an amazing movie!\", \"A total waste of my time.\"]"
   ]
  },
  {
   "cell_type": "code",
   "execution_count": null,
   "id": "b849c13a-bc44-4403-92a4-15b80140ce7e",
   "metadata": {},
   "outputs": [],
   "source": [
    "classifier.predict(examples)"
   ]
  },
  {
   "cell_type": "code",
   "execution_count": 18,
   "id": "cf77d3fb-b554-4815-8b9c-d637972f6d79",
   "metadata": {},
   "outputs": [
    {
     "name": "stdout",
     "output_type": "stream",
     "text": [
      "INFO:tensorflow:Assets written to: bert_tiny_imdb.dat/assets\n"
     ]
    },
    {
     "name": "stderr",
     "output_type": "stream",
     "text": [
      "INFO:tensorflow:Assets written to: bert_tiny_imdb.dat/assets\n"
     ]
    }
   ],
   "source": [
    "classifier.save(\"bert_tiny_imdb.dat\")"
   ]
  },
  {
   "cell_type": "code",
   "execution_count": 3,
   "id": "ec66d2aa-5142-4f75-a094-db7097362807",
   "metadata": {},
   "outputs": [],
   "source": [
    "classifier2 = keras.saving.load_model(\"bert_tiny_imdb.dat\")"
   ]
  },
  {
   "cell_type": "code",
   "execution_count": 6,
   "id": "76aadb13-71a7-47d1-9663-b42d137ad8ec",
   "metadata": {},
   "outputs": [
    {
     "name": "stdout",
     "output_type": "stream",
     "text": [
      "1/1 [==============================] - 1s 583ms/step\n"
     ]
    },
    {
     "data": {
      "text/plain": [
       "array([[0.02878699, 0.97121304],\n",
       "       [0.9309194 , 0.06908057]], dtype=float32)"
      ]
     },
     "execution_count": 6,
     "metadata": {},
     "output_type": "execute_result"
    }
   ],
   "source": [
    "classifier2.predict(examples2)"
   ]
  }
 ],
 "metadata": {
  "kernelspec": {
   "display_name": "Python 3 (ipykernel)",
   "language": "python",
   "name": "python3"
  },
  "language_info": {
   "codemirror_mode": {
    "name": "ipython",
    "version": 3
   },
   "file_extension": ".py",
   "mimetype": "text/x-python",
   "name": "python",
   "nbconvert_exporter": "python",
   "pygments_lexer": "ipython3",
   "version": "3.10.12"
  }
 },
 "nbformat": 4,
 "nbformat_minor": 5
}
