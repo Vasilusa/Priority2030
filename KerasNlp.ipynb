{
 "cells": [
  {
   "cell_type": "code",
   "execution_count": 1,
   "id": "d202a5a6-ccb0-4523-a87b-78f9c5659c02",
   "metadata": {},
   "outputs": [
    {
     "name": "stderr",
     "output_type": "stream",
     "text": [
      "2023-12-14 17:45:00.322293: I external/local_tsl/tsl/cuda/cudart_stub.cc:31] Could not find cuda drivers on your machine, GPU will not be used.\n",
      "2023-12-14 17:45:00.362509: E external/local_xla/xla/stream_executor/cuda/cuda_dnn.cc:9261] Unable to register cuDNN factory: Attempting to register factory for plugin cuDNN when one has already been registered\n",
      "2023-12-14 17:45:00.362550: E external/local_xla/xla/stream_executor/cuda/cuda_fft.cc:607] Unable to register cuFFT factory: Attempting to register factory for plugin cuFFT when one has already been registered\n",
      "2023-12-14 17:45:00.363688: E external/local_xla/xla/stream_executor/cuda/cuda_blas.cc:1515] Unable to register cuBLAS factory: Attempting to register factory for plugin cuBLAS when one has already been registered\n",
      "2023-12-14 17:45:00.370824: I external/local_tsl/tsl/cuda/cudart_stub.cc:31] Could not find cuda drivers on your machine, GPU will not be used.\n",
      "2023-12-14 17:45:01.551849: W tensorflow/compiler/tf2tensorrt/utils/py_utils.cc:38] TF-TRT Warning: Could not find TensorRT\n"
     ]
    },
    {
     "name": "stdout",
     "output_type": "stream",
     "text": [
      "Using TensorFlow backend\n"
     ]
    },
    {
     "name": "stderr",
     "output_type": "stream",
     "text": [
      "/home/alex/ai_venv/lib/python3.11/site-packages/tqdm/auto.py:21: TqdmWarning: IProgress not found. Please update jupyter and ipywidgets. See https://ipywidgets.readthedocs.io/en/stable/user_install.html\n",
      "  from .autonotebook import tqdm as notebook_tqdm\n"
     ]
    }
   ],
   "source": [
    "import os\n",
    "os.environ[\"KERAS_BACKEND\"] = \"tensorflow\"  # Or \"jax\" or \"torch\"!\n",
    "\n",
    "import keras_nlp\n",
    "import tensorflow_datasets as tfds\n",
    "import keras"
   ]
  },
  {
   "cell_type": "code",
   "execution_count": 2,
   "id": "15527f47-720c-4f5f-b132-0ae12a011258",
   "metadata": {},
   "outputs": [],
   "source": [
    "imdb_train, imdb_test = tfds.load(\n",
    "    \"imdb_reviews\",\n",
    "    split=[\"train\", \"test\"],\n",
    "    as_supervised=True,\n",
    "    batch_size=16,\n",
    ")"
   ]
  },
  {
   "cell_type": "code",
   "execution_count": 3,
   "id": "5aca89f7-4fa0-4035-8a54-a4f434f9fe22",
   "metadata": {},
   "outputs": [
    {
     "name": "stdout",
     "output_type": "stream",
     "text": [
      "Downloading data from https://storage.googleapis.com/keras-nlp/models/bert_tiny_en_uncased/v1/vocab.txt\n",
      "231508/231508 [==============================] - 0s 1us/step\n",
      "Downloading data from https://storage.googleapis.com/keras-nlp/models/bert_tiny_en_uncased/v1/model.h5\n",
      "17602216/17602216 [==============================] - 2s 0us/step\n"
     ]
    }
   ],
   "source": [
    "# Load a BERT model.\n",
    "classifier = keras_nlp.models.BertClassifier.from_preset(\n",
    "    \"bert_tiny_en_uncased\", \n",
    "    num_classes=2,\n",
    "    activation=\"softmax\",\n",
    ")"
   ]
  },
  {
   "cell_type": "code",
   "execution_count": 4,
   "id": "5bc32dc3-54e5-42da-a4b7-288d1f558d07",
   "metadata": {},
   "outputs": [
    {
     "name": "stderr",
     "output_type": "stream",
     "text": [
      "2023-12-13 13:45:02.272766: I external/local_xla/xla/service/service.cc:168] XLA service 0x7f69d4018c60 initialized for platform Host (this does not guarantee that XLA will be used). Devices:\n",
      "2023-12-13 13:45:02.272877: I external/local_xla/xla/service/service.cc:176]   StreamExecutor device (0): Host, Default Version\n",
      "2023-12-13 13:45:02.511345: I tensorflow/compiler/mlir/tensorflow/utils/dump_mlir_util.cc:269] disabling MLIR crash reproducer, set env var `MLIR_CRASH_REPRODUCER_DIRECTORY` to enable.\n",
      "2023-12-13 13:45:02.842701: W tensorflow/compiler/tf2xla/kernels/random_ops.cc:59] Warning: Using tf.random.uniform with XLA compilation will ignore seeds; consider using tf.random.stateless_uniform instead if reproducible behavior is desired. bert_classifier/bert_backbone/embeddings_dropout/dropout/random_uniform/RandomUniform\n",
      "WARNING: All log messages before absl::InitializeLog() is called are written to STDERR\n",
      "I0000 00:00:1702464308.197887    2278 device_compiler.h:186] Compiled cluster using XLA!  This line is logged at most once for the lifetime of the process.\n",
      "2023-12-13 13:45:08.203171: E external/local_xla/xla/stream_executor/stream_executor_internal.h:177] SetPriority unimplemented for this stream.\n"
     ]
    },
    {
     "name": "stdout",
     "output_type": "stream",
     "text": [
      "1563/1563 [==============================] - 2766s 2s/step - loss: 0.4098 - sparse_categorical_accuracy: 0.8097 - val_loss: 0.3035 - val_sparse_categorical_accuracy: 0.8714\n"
     ]
    },
    {
     "data": {
      "text/plain": [
       "<keras.src.callbacks.History at 0x7f6a186bb650>"
      ]
     },
     "execution_count": 4,
     "metadata": {},
     "output_type": "execute_result"
    }
   ],
   "source": [
    "# Fine-tune on IMDb movie reviews.\n",
    "classifier.fit(imdb_train, validation_data=imdb_test)"
   ]
  },
  {
   "cell_type": "code",
   "execution_count": 5,
   "id": "a8bf0293-7f8a-4471-a667-fe7fabaf906d",
   "metadata": {},
   "outputs": [],
   "source": [
    "examples = [\n",
    "  \"The movie was great!\",\n",
    "  \"The movie was okay.\",\n",
    "  \"The movie was terrible...\",\n",
    "  \"I ll recommend this movie to all my friends\"    \n",
    "]\n",
    "\n",
    "examples2 = [\"What an amazing movie!\", \"A total waste of my time.\"]"
   ]
  },
  {
   "cell_type": "code",
   "execution_count": null,
   "id": "b849c13a-bc44-4403-92a4-15b80140ce7e",
   "metadata": {},
   "outputs": [],
   "source": [
    "classifier.predict(examples)"
   ]
  },
  {
   "cell_type": "code",
   "execution_count": 18,
   "id": "cf77d3fb-b554-4815-8b9c-d637972f6d79",
   "metadata": {},
   "outputs": [
    {
     "name": "stdout",
     "output_type": "stream",
     "text": [
      "INFO:tensorflow:Assets written to: bert_tiny_imdb.dat/assets\n"
     ]
    },
    {
     "name": "stderr",
     "output_type": "stream",
     "text": [
      "INFO:tensorflow:Assets written to: bert_tiny_imdb.dat/assets\n"
     ]
    }
   ],
   "source": [
    "classifier.save(\"bert_tiny_imdb.dat\")"
   ]
  },
  {
   "cell_type": "code",
   "execution_count": 3,
   "id": "ec66d2aa-5142-4f75-a094-db7097362807",
   "metadata": {},
   "outputs": [],
   "source": [
    "classifier2 = keras.saving.load_model(\"bert_tiny_imdb.dat\")"
   ]
  },
  {
   "cell_type": "code",
   "execution_count": 6,
   "id": "76aadb13-71a7-47d1-9663-b42d137ad8ec",
   "metadata": {},
   "outputs": [
    {
     "name": "stdout",
     "output_type": "stream",
     "text": [
      "1/1 [==============================] - 1s 583ms/step\n"
     ]
    },
    {
     "data": {
      "text/plain": [
       "array([[0.02878699, 0.97121304],\n",
       "       [0.9309194 , 0.06908057]], dtype=float32)"
      ]
     },
     "execution_count": 6,
     "metadata": {},
     "output_type": "execute_result"
    }
   ],
   "source": [
    "classifier2.predict(examples2)"
   ]
  }
 ],
 "metadata": {
  "kernelspec": {
   "display_name": "Python 3 (ipykernel)",
   "language": "python",
   "name": "python3"
  },
  "language_info": {
   "codemirror_mode": {
    "name": "ipython",
    "version": 3
   },
   "file_extension": ".py",
   "mimetype": "text/x-python",
   "name": "python",
   "nbconvert_exporter": "python",
   "pygments_lexer": "ipython3",
   "version": "3.12.3"
  }
 },
 "nbformat": 4,
 "nbformat_minor": 5
}
